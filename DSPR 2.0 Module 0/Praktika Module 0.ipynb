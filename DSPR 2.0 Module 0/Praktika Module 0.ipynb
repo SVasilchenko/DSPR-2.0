{
 "cells": [
  {
   "cell_type": "markdown",
   "id": "6a9d3e61-f063-4ccf-9067-2e59b41e656f",
   "metadata": {},
   "source": [
    "##Practice"
   ]
  },
  {
   "cell_type": "code",
   "execution_count": null,
   "id": "6ec0f23f",
   "metadata": {},
   "outputs": [],
   "source": []
  },
  {
   "cell_type": "code",
   "execution_count": 9,
   "id": "0833fc32-b9d2-4d20-b3e8-62eb1cb9c8c4",
   "metadata": {},
   "outputs": [],
   "source": [
    "python_string = 'Hello! My name is Python. I will help you to analyze some data.'"
   ]
  },
  {
   "cell_type": "code",
   "execution_count": 3,
   "id": "6552ebb9-c7a5-4d5a-929f-fe6911bec6ec",
   "metadata": {},
   "outputs": [
    {
     "data": {
      "text/plain": [
       "'Python'"
      ]
     },
     "execution_count": 3,
     "metadata": {},
     "output_type": "execute_result"
    }
   ],
   "source": [
    "python_string[18:24]"
   ]
  },
  {
   "cell_type": "code",
   "execution_count": 11,
   "id": "3aa65697-fc0e-48c1-9b0d-dff33d760a18",
   "metadata": {},
   "outputs": [],
   "source": [
    "input_string = 'Hello! My name is Python. I will help you to analyze some data.'"
   ]
  },
  {
   "cell_type": "code",
   "execution_count": 18,
   "id": "cd2af669-cca0-45bf-bc58-11d4e53f2515",
   "metadata": {},
   "outputs": [],
   "source": [
    "input_string.replace('.', '')\n",
    "input_string.replace(',', '')\n",
    "input_string.replace('!', '')\n",
    "input_string.replace('?', '')\n",
    "count_words = len(input_string.split())\n",
    "#comment"
   ]
  },
  {
   "cell_type": "code",
   "execution_count": 19,
   "id": "32bbe706-f4d6-4e87-881d-004ec6275e8d",
   "metadata": {},
   "outputs": [],
   "source": [
    "file_path = 'data/images/train/10394.jpg'"
   ]
  },
  {
   "cell_type": "code",
   "execution_count": 20,
   "id": "1d0f22c3-fc28-45cd-b716-cf6db09460c5",
   "metadata": {},
   "outputs": [
    {
     "name": "stdout",
     "output_type": "stream",
     "text": [
      "10394 jpg\n"
     ]
    }
   ],
   "source": [
    "elems = file_path.split('/')\n",
    "file_name, file_extention = elems[-1].split('.')\n",
    "print(file_name, file_extention)"
   ]
  },
  {
   "cell_type": "code",
   "execution_count": 22,
   "id": "041d9eb5-c73a-4d34-8796-35069fdc4d52",
   "metadata": {},
   "outputs": [],
   "source": [
    "generated_text = \"глаза нее на поднял он и она попросила что-нибудь скажи\""
   ]
  },
  {
   "cell_type": "code",
   "execution_count": 25,
   "id": "5fc86bc4-47d9-4f50-94b2-ed9a98e430e9",
   "metadata": {},
   "outputs": [
    {
     "data": {
      "text/plain": [
       "'скажи что-нибудь попросила она и он поднял на нее глаза'"
      ]
     },
     "execution_count": 25,
     "metadata": {},
     "output_type": "execute_result"
    }
   ],
   "source": [
    "updated_text = ' '.join(generated_text.split()[::-1])\n",
    "updated_text"
   ]
  },
  {
   "cell_type": "code",
   "execution_count": 28,
   "id": "417f02ef-5c1c-4eea-bbd0-ca11caaa557b",
   "metadata": {},
   "outputs": [],
   "source": [
    "def change_password(user_name, new_password):\n",
    "    return (f'Пользователь {user_name} сменил пароль на {new_password}')"
   ]
  },
  {
   "cell_type": "code",
   "execution_count": 29,
   "id": "b17ea17e-5778-47cb-8969-625bc68065a5",
   "metadata": {},
   "outputs": [
    {
     "data": {
      "text/plain": [
       "'Пользователь qsdf сменил пароль на fghdf'"
      ]
     },
     "execution_count": 29,
     "metadata": {},
     "output_type": "execute_result"
    }
   ],
   "source": [
    "change_password('qsdf', 'fghdf')"
   ]
  },
  {
   "cell_type": "code",
   "execution_count": 30,
   "id": "6af95c31-c2ef-4f61-a1b0-8d649947782e",
   "metadata": {},
   "outputs": [],
   "source": [
    "car_dict = {\n",
    "    'car_ID': [123, 117, 111, 82, 101, 96, 156, 2, 58, 49],\n",
    "    'fueltype': ['gas', 'diesel', 'diesel', 'gas', 'gas', 'gas', 'gas', 'gas', 'gas', 'gas'],\n",
    "    'horsepower': [68, 95, 95, 88, 97, 69, 62, 111, 101, 176],\n",
    "    'price': [7609.0, 17950.0, 13860.0, 8499.0, 9549.0, 7799.0, 8778.0, 16500.0, 13645.0, 35550.0]\n",
    "}"
   ]
  },
  {
   "cell_type": "code",
   "execution_count": 35,
   "id": "1482a82a-05a2-4af9-a483-69f255396c22",
   "metadata": {},
   "outputs": [],
   "source": [
    "mean_price = round(sum(car_dict['price'])/len(car_dict['price']), 1)\n",
    "count_diesel = car_dict['fueltype'].count('diesel')\n",
    "min_horsepower = min(car_dict['horsepower'])"
   ]
  },
  {
   "cell_type": "code",
   "execution_count": 34,
   "id": "6404ebb9-63f9-48c9-b4a7-ae05e1bd77aa",
   "metadata": {},
   "outputs": [
    {
     "data": {
      "text/plain": [
       "2"
      ]
     },
     "execution_count": 34,
     "metadata": {},
     "output_type": "execute_result"
    }
   ],
   "source": [
    "count_diesel"
   ]
  },
  {
   "cell_type": "code",
   "execution_count": 38,
   "id": "e47559b3-3720-47d5-8939-52aa1271f873",
   "metadata": {},
   "outputs": [],
   "source": [
    "def check_duplicates(lst):\n",
    "    return len(lst) - len(set(lst)) > 0"
   ]
  },
  {
   "cell_type": "code",
   "execution_count": 39,
   "id": "1f7272f5-0301-42e2-9e4b-a63be3fb12a1",
   "metadata": {},
   "outputs": [
    {
     "name": "stdout",
     "output_type": "stream",
     "text": [
      "True\n"
     ]
    }
   ],
   "source": [
    "lst = [0, 0, 1, 2, 3, 4, 5, 5, 6, 7]\n",
    "print(check_duplicates(lst))"
   ]
  },
  {
   "cell_type": "code",
   "execution_count": null,
   "id": "5c2ccbda-63fb-460e-b95a-4175853327d6",
   "metadata": {},
   "outputs": [],
   "source": [
    "def swap_places(lst):\n",
    "    lst[0], lst[-1] = lst[-1], lst[0]\n",
    "    return lst"
   ]
  },
  {
   "cell_type": "code",
   "execution_count": 51,
   "id": "8993430e-9828-4a92-a1d7-8134ae4db0cb",
   "metadata": {},
   "outputs": [
    {
     "data": {
      "text/plain": [
       "['выхухоль', 'белка___', 'крот____']"
      ]
     },
     "execution_count": 51,
     "metadata": {},
     "output_type": "execute_result"
    }
   ],
   "source": [
    "string = ['крот', 'белка', 'выхухоль']\n",
    "\n",
    "def equalize_lengths(string):\n",
    "    sorted_str = sorted(string, key= lambda x : len(x), reverse=True)\n",
    "    max_length = len(sorted_str[0])\n",
    "    result = list(map(lambda x: x + '_'*(max_length-len(x)), sorted_str))\n",
    "    return result\n",
    "equalize_lengths(string)"
   ]
  },
  {
   "cell_type": "code",
   "execution_count": 57,
   "id": "ce586061-de51-4026-bb7a-76bcfc9cc472",
   "metadata": {},
   "outputs": [],
   "source": [
    "def division(a, b):\n",
    "    try:\n",
    "        return a/b\n",
    "    except ZeroDivisionError:\n",
    "        print('Zero division error!')\n",
    "        return None"
   ]
  },
  {
   "cell_type": "code",
   "execution_count": 58,
   "id": "a179a339-cd7d-46c7-8940-9498830563d5",
   "metadata": {
    "tags": []
   },
   "outputs": [
    {
     "name": "stdout",
     "output_type": "stream",
     "text": [
      "Zero division error!\n"
     ]
    }
   ],
   "source": [
    "division(3, 0)"
   ]
  },
  {
   "cell_type": "code",
   "execution_count": 97,
   "id": "070845ec-38d8-4786-b2c6-6d77e1723929",
   "metadata": {},
   "outputs": [],
   "source": [
    "def lucky_ticket(num):\n",
    "    numbers = str(num/1000).split('.')\n",
    "    i=0\n",
    "    sums = [0, 0]\n",
    "    for number in numbers:        \n",
    "        for elem in number:\n",
    "            sums[i] += int(elem)\n",
    "        i+=1        \n",
    "    return sums[0] == sums[1]"
   ]
  },
  {
   "cell_type": "code",
   "execution_count": 98,
   "id": "a3f96965-3e34-4ee4-9fb2-17130ee778c3",
   "metadata": {},
   "outputs": [
    {
     "data": {
      "text/plain": [
       "True"
      ]
     },
     "execution_count": 98,
     "metadata": {},
     "output_type": "execute_result"
    }
   ],
   "source": [
    "lucky_ticket(123123)"
   ]
  },
  {
   "cell_type": "code",
   "execution_count": 94,
   "id": "1b656693-1c52-4a40-9a41-1f179a6fe1eb",
   "metadata": {},
   "outputs": [],
   "source": [
    "def holes_count(num):\n",
    "    holes_dict = {'0': 1, '4': 1, '6': 1, '8': 2, '9':1}\n",
    "    holes_num = 0\n",
    "    for digit in str(num):\n",
    "        holes_num += holes_dict.get(digit, 0)\n",
    "    return holes_num"
   ]
  },
  {
   "cell_type": "code",
   "execution_count": 95,
   "id": "eddea97b-cf54-41e5-828a-b5c2a74385aa",
   "metadata": {},
   "outputs": [
    {
     "data": {
      "text/plain": [
       "5"
      ]
     },
     "execution_count": 95,
     "metadata": {},
     "output_type": "execute_result"
    }
   ],
   "source": [
    "holes_count(123518531876)"
   ]
  },
  {
   "cell_type": "code",
   "execution_count": 96,
   "id": "8d8d4c5c-4714-418e-9a89-769b68f259bf",
   "metadata": {},
   "outputs": [],
   "source": [
    "def holes_count(number):\n",
    "    str_number = str(number)\n",
    "    holes_dict = {\"0\": 1, \"4\": 1, \"6\": 1, \"8\": 2, \"9\": 1}\n",
    "    holes_count = sum(map(lambda x: holes_dict.get(x, 0), str_number))\n",
    "    return holes_count"
   ]
  },
  {
   "cell_type": "code",
   "execution_count": 104,
   "id": "45963fa3-958a-4a38-92ba-5820953ccfdb",
   "metadata": {},
   "outputs": [],
   "source": [
    "def lucky_ticket(num):\n",
    "    numbers = str(num/1000).split('.')\n",
    "    i=0\n",
    "    sums = [0, 0]\n",
    "    for number in numbers:\n",
    "        sums[i] = sum(map(lambda x: int(x), number))\n",
    "        i+=1        \n",
    "    return sums[0] == sums[1]"
   ]
  },
  {
   "cell_type": "code",
   "execution_count": 106,
   "id": "203f5116-afc1-44f3-9749-a986e574d41f",
   "metadata": {},
   "outputs": [
    {
     "data": {
      "text/plain": [
       "True"
      ]
     },
     "execution_count": 106,
     "metadata": {},
     "output_type": "execute_result"
    }
   ],
   "source": [
    "lucky_ticket(123123)"
   ]
  },
  {
   "cell_type": "code",
   "execution_count": 7,
   "id": "86b1bb5f-ce13-4a90-b48b-cf930a140451",
   "metadata": {},
   "outputs": [],
   "source": [
    "def even_numbers_in_matrix(matrix):    \n",
    "    n = 0\n",
    "    for elem in matrix:\n",
    "        if type(elem) is int:\n",
    "            if elem % 2 == 0:\n",
    "                n += 1\n",
    "        else:\n",
    "            n += even_numbers_in_matrix(elem)\n",
    "    return n"
   ]
  },
  {
   "cell_type": "code",
   "execution_count": 12,
   "id": "67e4426e-e130-4c3f-a090-0c7b52083ce7",
   "metadata": {},
   "outputs": [],
   "source": [
    "matrix_example = [\n",
    "    [1, 5, 4, [1, [4, 2, -2], 4]],\n",
    "    [4, 2, -2],\n",
    "    [7, [4, 2, -2], 88, 100]\n",
    "]"
   ]
  },
  {
   "cell_type": "code",
   "execution_count": 13,
   "id": "3b7f658c-205a-4247-b88c-fe246996bb72",
   "metadata": {},
   "outputs": [
    {
     "data": {
      "text/plain": [
       "13"
      ]
     },
     "execution_count": 13,
     "metadata": {},
     "output_type": "execute_result"
    }
   ],
   "source": [
    "even_numbers_in_matrix(matrix_example)"
   ]
  },
  {
   "cell_type": "code",
   "execution_count": 20,
   "id": "5065174b-6327-4049-a62a-aac4667486a8",
   "metadata": {},
   "outputs": [],
   "source": [
    "def matrix_sum(m1, m2):\n",
    "    if len(m1) == len(m2) and len(m1[0]) == len(m2[0]):\n",
    "        m_sum = []\n",
    "        for i in range(0, len(m1)):\n",
    "            row = []\n",
    "            for j in range(0, len(m1[0])):\n",
    "                row.append(m1[i][j] + m2[i][j])\n",
    "            m_sum.append(row)\n",
    "    else:\n",
    "        print(\"Error! Matrices dimensions are different!\")\n",
    "        return None\n",
    "    return m_sum\n",
    "        "
   ]
  },
  {
   "cell_type": "code",
   "execution_count": 21,
   "id": "e3b4f488-3914-48e0-a819-5b727fe84071",
   "metadata": {},
   "outputs": [],
   "source": [
    "matrix_example = [\n",
    "          [1, 5, 4],\n",
    "          [4, 2, -2],\n",
    "          [7, 65, 88]\n",
    "]"
   ]
  },
  {
   "cell_type": "code",
   "execution_count": 22,
   "id": "0142dd5d-6c95-429b-a419-92f63caf03d8",
   "metadata": {},
   "outputs": [
    {
     "data": {
      "text/plain": [
       "[[2, 10, 8], [8, 4, -4], [14, 130, 176]]"
      ]
     },
     "execution_count": 22,
     "metadata": {},
     "output_type": "execute_result"
    }
   ],
   "source": [
    "matrix_sum(matrix_example, matrix_example)"
   ]
  },
  {
   "cell_type": "code",
   "execution_count": 1,
   "id": "1eedfd75-3fe9-4864-bb9a-7d2881c7b8ab",
   "metadata": {},
   "outputs": [],
   "source": [
    "def print_personal_data(**kwargs):\n",
    "    _sorted = dict(sorted(kwargs.items(), key=lambda x: x[0]))\n",
    "    for key, value in _sorted.items():\n",
    "        print(f'{key}: {value}')"
   ]
  },
  {
   "cell_type": "code",
   "execution_count": 2,
   "id": "6be4e8d2-ac02-43d9-a527-97d219a3d9bd",
   "metadata": {},
   "outputs": [
    {
     "name": "stdout",
     "output_type": "stream",
     "text": [
      "age: 28\n",
      "first_name: John\n",
      "last_name: Doe\n",
      "position: Python developer\n"
     ]
    }
   ],
   "source": [
    "print_personal_data(first_name='John', last_name='Doe', age=28, position='Python developer')"
   ]
  },
  {
   "cell_type": "code",
   "execution_count": 49,
   "id": "69325681-b5ae-405a-bde6-9e05565742b8",
   "metadata": {},
   "outputs": [],
   "source": [
    "def print_personal_data(**kwargs):\n",
    "    keys = list(kwargs.keys())\n",
    "    keys.sort()\n",
    "    for key in keys:\n",
    "        print(f'{key}: {kwargs[key]}')"
   ]
  },
  {
   "cell_type": "code",
   "execution_count": 52,
   "id": "03f13746-7e56-4d5a-aed0-8c9b96cbe963",
   "metadata": {},
   "outputs": [],
   "source": [
    "text = 'qsdlkf jqs df,qs dck,, ,q s dmfij qsdf'"
   ]
  },
  {
   "cell_type": "code",
   "execution_count": 57,
   "id": "5581b71a-777a-451b-bef3-6f2ff0e39623",
   "metadata": {},
   "outputs": [
    {
     "data": {
      "text/plain": [
       "['qsdlkf', 'jqs', 'dfqs', 'dck', 'q', 's', 'dmfij', 'qsdf']"
      ]
     },
     "execution_count": 57,
     "metadata": {},
     "output_type": "execute_result"
    }
   ],
   "source": [
    "def get_words_list(text):\n",
    "    punctuation_list = ['.', ',', ';', ':', '...', '!', '?', '-', '\"', '(', ')']\n",
    "    filter_func = lambda x: x not in punctuation_list\n",
    "    text = text.lower()\n",
    "    temp = (filter(filter_func, text))\n",
    "    text = \"\".join(temp)\n",
    "    text = text.split()\n",
    "    return text\n",
    "\n",
    "get_words_list(text)"
   ]
  },
  {
   "cell_type": "code",
   "execution_count": 80,
   "id": "70ad47a2-dda4-4455-8056-b5f06173fd63",
   "metadata": {},
   "outputs": [],
   "source": [
    "lst = ['and', 'take', 'the', 'most', 'special', 'care', 'that', 'you', 'locate', \"muad'dib\", 'in', 'his', 'place', 'the', 'planet', 'arrakis', 'do', 'not', 'be', 'deceived', 'by', 'the', 'fact', 'that', 'he', 'was', 'born', 'on', 'caladan', 'and', 'lived', 'his', 'first', 'fifteen', 'years', 'there', 'arrakis', 'the', 'planet', 'known', 'as', 'dune', 'is', 'forever', 'his', 'place']"
   ]
  },
  {
   "cell_type": "code",
   "execution_count": 82,
   "id": "1af5813f-71e2-44fa-85e6-01d68aeb309d",
   "metadata": {},
   "outputs": [],
   "source": [
    "def get_unique_words(lst):\n",
    "    lst = list(set(lst))\n",
    "    lst.sort()\n",
    "    return lst"
   ]
  },
  {
   "cell_type": "code",
   "execution_count": 83,
   "id": "693ab9a7-89ba-4b7e-bec4-0d385c3d8f9e",
   "metadata": {},
   "outputs": [
    {
     "data": {
      "text/plain": [
       "['diesel', 'gas']"
      ]
     },
     "execution_count": 83,
     "metadata": {},
     "output_type": "execute_result"
    }
   ],
   "source": [
    "get_unique_words(['gas', 'diesel', 'diesel', 'gas', 'gas', 'gas', 'gas', 'gas', 'gas', 'gas'])"
   ]
  },
  {
   "cell_type": "code",
   "execution_count": 107,
   "id": "c14a7213-5691-4527-be6f-cd84311e14fb",
   "metadata": {},
   "outputs": [],
   "source": [
    "def get_most_frequent_word(text):\n",
    "    \n",
    "    def get_words_list(text):\n",
    "        punctuation_list = ['.', ',', ';', ':', '...', '!', '?', '-', '\"', '(', ')']\n",
    "        \n",
    "        filter_func = lambda x: x not in punctuation_list\n",
    "        temp = (filter(filter_func, text))\n",
    "        text = \"\".join(temp)\n",
    "        \n",
    "        text = text.lower()\n",
    "        text = text.split()        \n",
    "        return text\n",
    "    \n",
    "    def get_unique_words(lst):\n",
    "        lst = list(set(lst))\n",
    "        lst.sort()\n",
    "        return lst\n",
    "    \n",
    "    if text:\n",
    "        words_list = get_words_list(text)\n",
    "        unique_words = get_unique_words(words_list)\n",
    "\n",
    "        word_dict = {}\n",
    "        for word in unique_words:\n",
    "            word_dict[word] = words_list.count(word)\n",
    "        \n",
    "        word_dict = dict(sorted(word_dict.items(), key=lambda x: x[1], reverse=True ))\n",
    "        keys = list(word_dict.keys())\n",
    "        return keys[0]\n",
    "    else: return []\n"
   ]
  },
  {
   "cell_type": "code",
   "execution_count": 108,
   "id": "c3439a3e-c0eb-4475-83b1-0cf5d8f54b0b",
   "metadata": {},
   "outputs": [
    {
     "name": "stdout",
     "output_type": "stream",
     "text": [
      "the\n"
     ]
    }
   ],
   "source": [
    "text_example = \"A beginning is the time for taking the most delicate care that the balances are correct. This every sister of the Bene Gesserit knows. To begin your study of the life of Muad'Dib, then take care that you first place him in his time: born in the 57th year of the Padishah Emperor, Shaddam IV. And take the most special care that you locate Muad'Dib in his place: the planet Arrakis. Do not be deceived by the fact that he was born on Caladan and lived his first fifteen years there. Arrakis, the planet known as Dune, is forever his place.\"\n",
    "print(get_most_frequent_word(text_example))\n",
    "\n"
   ]
  },
  {
   "cell_type": "code",
   "execution_count": 109,
   "id": "d17a6a52-d6a6-4a35-9fed-1d6740ff574b",
   "metadata": {},
   "outputs": [],
   "source": [
    "data = [\n",
    "    ('Amanda', 37, 78, 67),\n",
    "    ('Patricia', 78, 93, 68),\n",
    "    ('Marcos', 79, 67, 89),\n",
    "    ('Dmitry', 67, 68, 100),\n",
    "    ('Andrey', 100, 78, 76),\n",
    "    ('Victoria', 93, 69, 96),\n",
    "]"
   ]
  },
  {
   "cell_type": "code",
   "execution_count": 110,
   "id": "b6d24deb-a977-411a-a7ad-84c98d6b4bc7",
   "metadata": {},
   "outputs": [],
   "source": [
    "def get_total_score(data):\n",
    "    map_func = lambda x : (*x, sum(x[1:]))\n",
    "    data = list(map(map_func, data))\n",
    "    data = sorted(data, key=lambda x: x[4])\n",
    "    return data"
   ]
  },
  {
   "cell_type": "code",
   "execution_count": 111,
   "id": "02a795ed-45ab-4cc7-9ab1-764b3c284e28",
   "metadata": {},
   "outputs": [
    {
     "data": {
      "text/plain": [
       "[('Amanda', 37, 78, 67, 182),\n",
       " ('Marcos', 79, 67, 89, 235),\n",
       " ('Dmitry', 67, 68, 100, 235),\n",
       " ('Patricia', 78, 93, 68, 239),\n",
       " ('Andrey', 100, 78, 76, 254),\n",
       " ('Victoria', 93, 69, 96, 258)]"
      ]
     },
     "execution_count": 111,
     "metadata": {},
     "output_type": "execute_result"
    }
   ],
   "source": [
    "get_total_score(data)"
   ]
  },
  {
   "cell_type": "code",
   "execution_count": 147,
   "id": "9ca39168-4048-4427-9273-f2d4da3beb3b",
   "metadata": {},
   "outputs": [],
   "source": [
    "data = {\n",
    "    \"type\": \"video\",\n",
    "    \"videoID\": \"vid001\",\n",
    "    \"links\": [\n",
    "        {\"type\":\"video\", \"videoID\":\"vid002\", \"links\":[]},\n",
    "        {   \"type\":\"video\",\n",
    "            \"videoID\":\"vid003\",\n",
    "            \"links\": [\n",
    "            {\"type\": \"video\", \"videoID\":\"vid004\"},\n",
    "            {\"type\": \"video\", \"videoID\":\"vid005\"},\n",
    "            ]\n",
    "        },\n",
    "        {\"type\":\"video\", \"videoID\":\"vid006\"},\n",
    "        {   \"type\":\"video\",\n",
    "            \"videoID\":\"vid007\",\n",
    "            \"links\": [\n",
    "            {\"type\":\"video\", \"videoID\":\"vid008\", \"links\": [\n",
    "                {   \"type\":\"video\",\n",
    "                    \"videoID\":\"vid009\",\n",
    "                    \"links\": [{\"type\":\"video\", \"videoID\":\"vid010\"}]\n",
    "                }\n",
    "            ]}\n",
    "        ]},\n",
    "    ]\n",
    "}\n"
   ]
  },
  {
   "cell_type": "code",
   "execution_count": 148,
   "id": "6fab8822-abef-4e5a-a591-906ee0b50faf",
   "metadata": {},
   "outputs": [],
   "source": [
    "def get_video_id(data, result = []):    \n",
    "    if type(data) is list:\n",
    "        for elem in data:\n",
    "            try:\n",
    "                result.append(elem[\"videoID\"])\n",
    "            except KeyError:\n",
    "                pass\n",
    "            if \"links\" in elem.keys():\n",
    "                get_video_id(elem[\"links\"], result)            \n",
    "    else:\n",
    "        try:\n",
    "            result.append(data[\"videoID\"])\n",
    "        except KeyError:\n",
    "            pass\n",
    "        if \"links\" in data.keys():\n",
    "            get_video_id(data[\"links\"], result)\n",
    "    return result\n",
    "        "
   ]
  },
  {
   "cell_type": "code",
   "execution_count": 149,
   "id": "23cbd3ff-ea4c-4f66-9109-ea74714d4408",
   "metadata": {},
   "outputs": [
    {
     "data": {
      "text/plain": [
       "['vid001',\n",
       " 'vid002',\n",
       " 'vid003',\n",
       " 'vid004',\n",
       " 'vid005',\n",
       " 'vid006',\n",
       " 'vid007',\n",
       " 'vid008',\n",
       " 'vid009',\n",
       " 'vid010']"
      ]
     },
     "execution_count": 149,
     "metadata": {},
     "output_type": "execute_result"
    }
   ],
   "source": [
    "get_video_id(data)"
   ]
  },
  {
   "cell_type": "code",
   "execution_count": 141,
   "id": "16ddad99-b701-4dba-b5f8-909d9c90355e",
   "metadata": {},
   "outputs": [],
   "source": [
    "data = {'type': 'video',\n",
    "        'links': [{'type': 'video', 'videoID': 'vid001', 'links': \n",
    "          [{'type': 'video', 'videoID': 'vid002'}, {'type': 'video', 'videoID': 'vid003'}]}, {'type': 'video', 'videoID': 'vid004', 'links': [{'type': 'video', 'videoID': 'vid005', 'links': [{'type': 'video', 'videoID': 'vid006', 'links': [{'type': 'video', 'videoID': 'vid07'}]}]}]}]}"
   ]
  },
  {
   "cell_type": "code",
   "execution_count": null,
   "id": "5429c736-243b-47c1-8823-bc8c1a423707",
   "metadata": {},
   "outputs": [],
   "source": [
    "def find_video(data):\n",
    "    # Инициализируем пустой список\n",
    "    output = []\n",
    "    # Создаём цикл по ключам в словаре data\n",
    "    for key in data:\n",
    "        # Если значение, хранящееся по ключу — список,\n",
    "        if type(data[key]) is list:\n",
    "            # создаём цикл по элементам списка,\n",
    "            for elem in data[key]:\n",
    "                # вызываем функцию для поиска идентификаторов для каждого элемента списка.\n",
    "                # Добавляем результаты вызова в список\n",
    "                output += find_video(elem)\n",
    "        # Проверяем, что ключ — нужная нам строка.\n",
    "        if key == 'videoID':\n",
    "            # Если условие выполняется, добавляем в список найденный идентификатор видео.\n",
    "            output.append(data[key])\n",
    "    # Возвращаем результат\n",
    "    return output"
   ]
  },
  {
   "cell_type": "code",
   "execution_count": 15,
   "id": "3fc5be05-5e32-4042-94f3-82cf0f63f072",
   "metadata": {},
   "outputs": [
    {
     "data": {
      "text/plain": [
       "[]"
      ]
     },
     "execution_count": 15,
     "metadata": {},
     "output_type": "execute_result"
    }
   ],
   "source": [
    "str1 = '108, 138'\n",
    "str2 = '109, 13, 52, 32, 42, 14, 109' \n",
    "\n",
    "def pure_intersection(str1, str2):\n",
    "    list1 = str1.split(', ')\n",
    "    list2 = str2.split(', ')\n",
    "    \n",
    "    try:\n",
    "        list1 = list(map(int, list1))\n",
    "        list2 = list(map(int, list2))\n",
    "    except ValueError:\n",
    "        print('Некорректный ввод')\n",
    "        return None\n",
    "    result = list(set(list1).intersection(list2))\n",
    "    return result\n",
    "    \n",
    "pure_intersection(str1, str2)"
   ]
  },
  {
   "cell_type": "code",
   "execution_count": 24,
   "id": "bbe1591b-d340-4dc2-a0b6-e091f88fa001",
   "metadata": {},
   "outputs": [
    {
     "name": "stdout",
     "output_type": "stream",
     "text": [
      "Minimum: -37.5\n",
      "Maximum: 25.002\n"
     ]
    }
   ],
   "source": [
    "str_in = '-2,56 25,002 восемь 19,13 13 -37,5'\n",
    "\n",
    "def find_min_max(str_in):\n",
    "    str_in = str_in.replace(',', '.')\n",
    "    str_in = str_in.split()\n",
    "    \n",
    "    filter_func = lambda x: not x.isalpha()\n",
    "    str_in = list(filter(filter_func, str_in))\n",
    "    \n",
    "    num_list = list(map(float, str_in))\n",
    "    min_v, max_v = min(num_list), max(num_list)\n",
    "    return min_v, max_v              \n",
    "\n",
    "min_v, max_v = find_min_max(str_in)\n",
    "print(f'Minimum: {min_v}')\n",
    "print(f'Maximum: {max_v}')"
   ]
  },
  {
   "cell_type": "code",
   "execution_count": 52,
   "id": "b57fd575-d9f9-4e91-b6d7-6151c19a1a41",
   "metadata": {},
   "outputs": [
    {
     "name": "stdout",
     "output_type": "stream",
     "text": [
      "Median: 32.5\n"
     ]
    }
   ],
   "source": [
    "input_string = '109, 13, 52, 32.5, 42, 14, 109, 5, 8' \n",
    "\n",
    "def find_median(input_string):\n",
    "    # Преобразуем в список строк\n",
    "    lst = input_string.split(', ')\n",
    "    \n",
    "    # Преобразуем в список действительных чисел и отлавливаем ошибку некорректного ввода\n",
    "    try:\n",
    "        lst = list(map(float, lst))\n",
    "    except ValueError:\n",
    "        print('Некорректный ввод')\n",
    "        return None\n",
    "    \n",
    "    lst.sort()\n",
    "    \n",
    "    # Возвращаем разные значения в зависимости от четности количества элементов\n",
    "    if len(lst) % 2 == 0:\n",
    "        i = int(len(lst)/2) # индекс около середины списка\n",
    "        med_lst = lst[i-1:i+1] # срезаем 2 центральных значения\n",
    "        return sum(med_lst)/2\n",
    "    else:\n",
    "        i = int(len(lst)/2) #индекс центрального элемента\n",
    "        return lst[i]\n",
    "        \n",
    "median = find_median(input_string)\n",
    "print(f'Median: {median}')"
   ]
  },
  {
   "cell_type": "code",
   "execution_count": 19,
   "id": "fe17fe4c-da80-4bb8-8788-64c0e0cdb728",
   "metadata": {},
   "outputs": [
    {
     "data": {
      "text/plain": [
       "[0, 0, 1, 3, 5, 5, 6, 25, 42]"
      ]
     },
     "execution_count": 19,
     "metadata": {},
     "output_type": "execute_result"
    }
   ],
   "source": [
    "input_string = '109, 13, 52, 32, 42, 14, 109' \n",
    "lst = [0, 0, 1, 25, 3, 42, 5, 5, 6]\n",
    "lst.sort()\n",
    "lst"
   ]
  },
  {
   "cell_type": "code",
   "execution_count": 32,
   "id": "0958074e-24a8-482c-9aa5-8e134d95fc50",
   "metadata": {},
   "outputs": [
    {
     "data": {
      "text/plain": [
       "783919"
      ]
     },
     "execution_count": 32,
     "metadata": {},
     "output_type": "execute_result"
    }
   ],
   "source": [
    "def transform_string_to_integer(inp_str):\n",
    "    \n",
    "    number_word_dict = {\n",
    "    \"ты\": 1000, \"м\": 1000000,\n",
    "    \"сто\": 100, \"двес\": 200, \"трис\": 300, \"четырес\": 400, \"пятьс\": 500, \"шестьс\": 600, \"семьс\": 700, \"восемьс\": 800, \"девятьс\": 900,\n",
    "    \"одинн\": 11, \"двен\": 12, \"трин\": 13, \"четырн\": 14, \"пятн\": 15, \"шестн\": 16, \"семн\": 17, \"восемн\": 18, \"девятн\": 19,\n",
    "    \"двад\": 20, \"трид\": 30, \"сор\": 40, \"пятьд\": 50, \"шестьд\": 60, \"семьд\": 70, \"восемьд\": 80, \"девяно\": 90,\n",
    "    \"дес\": 10, \"н\": 0, \"о\": 1, \"дв\": 2, \"т\": 3, \"ч\": 4, \"п\": 5, \"ш\": 6, \"с\": 7, \"в\": 8, \"д\": 9, }\n",
    "    \n",
    "    # Эта функция заменит слова списке на соответсвующие числа\n",
    "    def word_to_num(word):\n",
    "        for key, value in number_word_dict.items():\n",
    "            if word.startswith(key):\n",
    "                return value\n",
    "    \n",
    "    # в получившемся списке порядки будут неправильные, но будет (или нет) элемент '1000',\n",
    "    # по которому мы и определим порядок чисел стоящих слева от этого элемента\n",
    "    # т.к. программа должна работать только до миллиона, то заботиться о порядках 1Е6 нам не нужно\n",
    "    def fit_orders(num_list):\n",
    "        # Проверяем есть ли тысяча в списке чисел, берем срез слева от 1000, умножаем на три порядка, саму тысячу из списка удаляем\n",
    "        if 1000 in num_list:\n",
    "            idx = num_list.index(1000)\n",
    "            thousands_list = num_list[:idx]\n",
    "            thousands_list = [i * 1000 for i in thousands_list]\n",
    "            num_list[:idx] = thousands_list\n",
    "            del num_list[idx]\n",
    "        return num_list\n",
    "        \n",
    "    word_list = inp_str.split() # преобразуем строку в список\n",
    "    num_list = list(map(word_to_num, word_list)) # заменяем слова на числа с помощью заданной функции\n",
    "    num_list = fit_orders(num_list) # обрабатываем тысячи\n",
    "        \n",
    "    return sum(num_list) # суммируем все элементы и возвращаем\n",
    "    \n",
    "transform_string_to_integer('семьсот восемьдесят три тысячи девятьсот девятнадцать')\n",
    "\n",
    "            \n",
    "        "
   ]
  },
  {
   "cell_type": "code",
   "execution_count": 146,
   "id": "01953141-7a3d-4901-807a-97d0e9f313f7",
   "metadata": {},
   "outputs": [
    {
     "name": "stdout",
     "output_type": "stream",
     "text": [
      "Введите число:  100\n"
     ]
    },
    {
     "name": "stdout",
     "output_type": "stream",
     "text": [
      "100! = 2^97 * 3^48 * 5^24 * 7^16 * 11^9 * 13^7 * 17^5 * 19^5 * 23^4 * 29^3 * 31^3 * 37^2 * 41^2 * 43^2 * 47^2 * 53 * 59 * 61 * 67 * 71 * 73 * 79 * 83 * 89 * 97\n"
     ]
    }
   ],
   "source": [
    "n = input('Введите число: ')\n",
    "# ваш код здесь\n",
    "# Решать задачу будем в три этапа, которые заключены в функции:\n",
    "\n",
    " \n",
    "def decompose_factorial(n):\n",
    "    \n",
    "    # 1. Вычесление факториала    \n",
    "    def factorial_n(n):\n",
    "        if n == 1 or n == 0:\n",
    "            f = 1 \n",
    "        else:\n",
    "            f = n * factorial_n(n-1)\n",
    "        return f\n",
    "    # 2. Поиск простых множителей \n",
    "    def prime_factors(n):\n",
    "        factor_list = []\n",
    "        d = 2\n",
    "        while d * d <= n:\n",
    "            if n % d == 0:\n",
    "                factor_list.append(d)\n",
    "                n //= d\n",
    "            else:\n",
    "                d += 1\n",
    "        if n > 1:\n",
    "            factor_list.append(n)\n",
    "        return factor_list\n",
    "    # 3. Подготовка строки вывода\n",
    "    def list_to_str(factor_list):\n",
    "        \n",
    "        # переведем список множителей во множество, чтобы избавиться от дубликатов. \n",
    "        factor_set = sorted(set(factor_list))\n",
    "        factor_dict = {}\n",
    "        result_str_list = []\n",
    "        \n",
    "        # Пройдемся по множеству и посичтаем количество входов множителя в число\n",
    "        for factor in factor_set:\n",
    "            f_cnt = factor_list.count(factor)\n",
    "            factor_dict[factor] = '' if f_cnt == 1 else '^'+str(f_cnt)  # ключи будут множители, а значения строки со степенями\n",
    "            result_str_list.append(str(factor) + factor_dict[factor]) # \"склеиваем\" подстроки множителей в список, где элемент имеет вид \"x^y\" \n",
    "        return result_str_list    \n",
    "\n",
    "    n = int(n)\n",
    "    result_str_list = list_to_str(prime_factors(factorial_n(n))) # применяем описанные функции к n    \n",
    "    \n",
    "    return f'{n}! = ' + ' * '.join(result_str_list) # доформируем и возвращаем строку вывода\n",
    "\n",
    "print(decompose_factorial(n))"
   ]
  },
  {
   "cell_type": "code",
   "execution_count": 93,
   "id": "7004e639-81bc-4587-9423-9a99abc6e074",
   "metadata": {},
   "outputs": [
    {
     "data": {
      "text/plain": [
       "'BLACK'"
      ]
     },
     "execution_count": 93,
     "metadata": {},
     "output_type": "execute_result"
    }
   ],
   "source": [
    "def get_color(cell):\n",
    "    dict  ={'A': 1, 'B': 2, 'C': 3, 'D': 4, 'E': 5, 'F': 6, 'G': 7, 'H': 8}\n",
    "    if (dict[cell[0]] + int(cell[1])) % 2 == 0:\n",
    "        return 'BLACK'\n",
    "    else:\n",
    "        return 'WHITE'\n",
    "    \n",
    "get_color('C3')"
   ]
  },
  {
   "cell_type": "code",
   "execution_count": 144,
   "id": "7ff598f2-2a3e-45e9-b827-4cc2dafa7907",
   "metadata": {},
   "outputs": [],
   "source": [
    "import string\n",
    "\n",
    "alphabet = string.ascii_lowercase\n",
    "\n",
    "# Сделаем через рекурсию :)\n",
    "def replace_duplicates(s):\n",
    "    # если длина множества от списка равна длине списка значит дубликатов нет и можно выводить результат\n",
    "    s_set = set(s)\n",
    "    if len(s_set) == len(s):\n",
    "        return s\n",
    "    \n",
    "    # в противном случае для всех символов множества входящих в строку проводим поиск и замену дубликатов\n",
    "    else:\n",
    "        for symbol in s_set:\n",
    "            if s.count(symbol) != 1:\n",
    "                s = list(s)\n",
    "                idx = (i for i, e in enumerate(s) if e == symbol)\n",
    "                s[next(idx)] = \"\"\n",
    "                s[next(idx)] = \"\"\n",
    "                del idx\n",
    "                alpha_index = alphabet.index(symbol)\n",
    "                s.append(alphabet[alpha_index+1])\n",
    "                s = ''.join(s)\n",
    "        \n",
    "        # рекурсия (ниже) нужна для того, чтобы пробежавшись по символам множества и, наплодив новых дубликатов опять,\n",
    "        # пробежаться по новоой строке, и т.д. пока дубликатов не останется\n",
    "        s = replace_duplicates(s)\n",
    "        return s"
   ]
  },
  {
   "cell_type": "code",
   "execution_count": 145,
   "id": "23baca64-8685-4fb0-bac3-8cf617ae6878",
   "metadata": {},
   "outputs": [
    {
     "data": {
      "text/plain": [
       "'cbslrnfphgwk'"
      ]
     },
     "execution_count": 145,
     "metadata": {},
     "output_type": "execute_result"
    }
   ],
   "source": [
    "s = 'aanfkjsqdfhluiehfnqsdnclkqsdhvlqskjdhferhhfn'\n",
    "replace_duplicates(s)"
   ]
  },
  {
   "cell_type": "code",
   "execution_count": 99,
   "id": "db750ccf-6c00-4f1a-bbfd-879969acef38",
   "metadata": {},
   "outputs": [
    {
     "data": {
      "text/plain": [
       "'abcdefghijklmnopqrstuvwxyz'"
      ]
     },
     "execution_count": 99,
     "metadata": {},
     "output_type": "execute_result"
    }
   ],
   "source": [
    "alphabet"
   ]
  },
  {
   "cell_type": "code",
   "execution_count": 123,
   "id": "13a78779-9f31-4162-b4e2-9f963a58e4f7",
   "metadata": {},
   "outputs": [
    {
     "name": "stdout",
     "output_type": "stream",
     "text": [
      "nfhhfnb\n"
     ]
    }
   ],
   "source": [
    "s = 'aanfhhfn'\n",
    "s = list(s)\n",
    "idx = (i for i, e in enumerate(s) if e == \"a\")\n",
    "s[next(idx)] = \"\"\n",
    "s[next(idx)] = \"\"\n",
    "alpha_index = alphabet.index(\"a\")\n",
    "s.append(alphabet[alpha_index+1])\n",
    "s = ''.join(s)\n",
    "print(s)"
   ]
  },
  {
   "cell_type": "code",
   "execution_count": null,
   "id": "8c4ee5ba-17ac-42ff-9d1b-50401a4f3dbc",
   "metadata": {},
   "outputs": [],
   "source": [
    "ratings = [('Old York', 3.3), ('New Age', 4.6), ('Old Gold', 3.3), ('General Foods', 4.8),\n",
    "           ('Belissimo', 4.5), ('CakeAndCoffee', 4.2), ('CakeOClock', 4.2), ('CakeTime', 4.1),\n",
    "           ('WokToWork', 4.9), ('WokAndRice', 4.9), ('Old Wine Cellar', 3.3), ('Nice Cakes', 3.9)]\n",
    "\n",
    "# Отсортируйте список ratings по убыванию рейтинга. Для кафе с одинаковым рейтингом отсортируйте \n",
    "# кортежи по названию.\n",
    "\n",
    "ratings.sort(key=lambda x: (-x[1], x[0]))\n",
    "\n",
    "# Сохраните данные с рейтингом в словарь cafes, где ключами являются\n",
    "# названия кафе, а значениями - их рейтинг.\n",
    "from collections import OrderedDict\n",
    "cafes = OrderedDict(ratings)"
   ]
  }
 ],
 "metadata": {
  "kernelspec": {
   "display_name": "Python 3",
   "language": "python",
   "name": "python3"
  },
  "language_info": {
   "codemirror_mode": {
    "name": "ipython",
    "version": 3
   },
   "file_extension": ".py",
   "mimetype": "text/x-python",
   "name": "python",
   "nbconvert_exporter": "python",
   "pygments_lexer": "ipython3",
   "version": "3.11.4"
  }
 },
 "nbformat": 4,
 "nbformat_minor": 5
}
