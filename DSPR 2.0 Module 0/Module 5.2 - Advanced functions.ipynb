{
 "cells": [
  {
   "cell_type": "code",
   "execution_count": 31,
   "id": "ed4ccf66-2f29-4137-afc9-e58790407242",
   "metadata": {},
   "outputs": [],
   "source": [
    "def get_count_unique_symbol(s):\n",
    "    s = s.lower()\n",
    "    s = set(s.replace(' ', ''))\n",
    "    return len(s)"
   ]
  },
  {
   "cell_type": "code",
   "execution_count": 32,
   "id": "1c70ef88-0248-4b63-b386-a22815880030",
   "metadata": {},
   "outputs": [
    {
     "data": {
      "text/plain": [
       "5"
      ]
     },
     "execution_count": 32,
     "metadata": {},
     "output_type": "execute_result"
    }
   ],
   "source": [
    "get_count_unique_symbols('a b C dd!')"
   ]
  },
  {
   "cell_type": "code",
   "execution_count": 38,
   "id": "70c82786-6c92-486f-8807-335dfacc8a84",
   "metadata": {},
   "outputs": [],
   "source": [
    "def get_min_string(s1, s2):\n",
    "    \n",
    "    def get_count_unique_symbols(s):\n",
    "        s = s.lower()\n",
    "        s = set(s.replace(' ', ''))\n",
    "        return len(s)\n",
    "   \n",
    "    n1 = get_count_unique_symbols(s1)\n",
    "    n2 = get_count_unique_symbols(s2)\n",
    "    \n",
    "    if n1 < n2:        \n",
    "        return s1    \n",
    "    elif n1 == n2: \n",
    "        return (s1, s2)\n",
    "    else:\n",
    "        return s2"
   ]
  },
  {
   "cell_type": "code",
   "execution_count": 39,
   "id": "c55e5048-6c2d-4671-a43a-a3970e30c04d",
   "metadata": {},
   "outputs": [],
   "source": [
    "s1 = 'a b  dd!'\n",
    "s2 = 'a b C d!'"
   ]
  },
  {
   "cell_type": "code",
   "execution_count": 40,
   "id": "b08086f5-323f-4191-b73c-6b9686ca97f0",
   "metadata": {},
   "outputs": [
    {
     "data": {
      "text/plain": [
       "'a b  dd!'"
      ]
     },
     "execution_count": 40,
     "metadata": {},
     "output_type": "execute_result"
    }
   ],
   "source": [
    "get_min_string(s1, s2)"
   ]
  },
  {
   "cell_type": "code",
   "execution_count": 41,
   "id": "b60c921d-ee06-4b6f-8bf4-0df3da61284a",
   "metadata": {},
   "outputs": [
    {
     "ename": "NameError",
     "evalue": "name 'get_count_unique_symbols1' is not defined",
     "output_type": "error",
     "traceback": [
      "\u001b[0;31m---------------------------------------------------------------------------\u001b[0m",
      "\u001b[0;31mNameError\u001b[0m                                 Traceback (most recent call last)",
      "Cell \u001b[0;32mIn[41], line 1\u001b[0m\n\u001b[0;32m----> 1\u001b[0m get_count_unique_symbols1(s1)\n",
      "\u001b[0;31mNameError\u001b[0m: name 'get_count_unique_symbols1' is not defined"
     ]
    }
   ],
   "source": [
    "get_count_unique_symbols(s1)"
   ]
  },
  {
   "cell_type": "code",
   "execution_count": 42,
   "id": "b48ba2d5-68a4-4628-a60d-07cdd9dc2c7d",
   "metadata": {},
   "outputs": [
    {
     "name": "stdout",
     "output_type": "stream",
     "text": [
      "['ArithmeticError', 'AssertionError', 'AttributeError', 'BaseException', 'BaseExceptionGroup', 'BlockingIOError', 'BrokenPipeError', 'BufferError', 'BytesWarning', 'ChildProcessError', 'ConnectionAbortedError', 'ConnectionError', 'ConnectionRefusedError', 'ConnectionResetError', 'DeprecationWarning', 'EOFError', 'Ellipsis', 'EncodingWarning', 'EnvironmentError', 'Exception', 'ExceptionGroup', 'False', 'FileExistsError', 'FileNotFoundError', 'FloatingPointError', 'FutureWarning', 'GeneratorExit', 'IOError', 'ImportError', 'ImportWarning', 'IndentationError', 'IndexError', 'InterruptedError', 'IsADirectoryError', 'KeyError', 'KeyboardInterrupt', 'LookupError', 'MemoryError', 'ModuleNotFoundError', 'NameError', 'None', 'NotADirectoryError', 'NotImplemented', 'NotImplementedError', 'OSError', 'OverflowError', 'PendingDeprecationWarning', 'PermissionError', 'ProcessLookupError', 'RecursionError', 'ReferenceError', 'ResourceWarning', 'RuntimeError', 'RuntimeWarning', 'StopAsyncIteration', 'StopIteration', 'SyntaxError', 'SyntaxWarning', 'SystemError', 'SystemExit', 'TabError', 'TimeoutError', 'True', 'TypeError', 'UnboundLocalError', 'UnicodeDecodeError', 'UnicodeEncodeError', 'UnicodeError', 'UnicodeTranslateError', 'UnicodeWarning', 'UserWarning', 'ValueError', 'Warning', 'ZeroDivisionError', '__IPYTHON__', '__build_class__', '__debug__', '__doc__', '__import__', '__loader__', '__name__', '__package__', '__spec__', 'abs', 'aiter', 'all', 'anext', 'any', 'ascii', 'bin', 'bool', 'breakpoint', 'bytearray', 'bytes', 'callable', 'chr', 'classmethod', 'compile', 'complex', 'copyright', 'credits', 'delattr', 'dict', 'dir', 'display', 'divmod', 'enumerate', 'eval', 'exec', 'execfile', 'filter', 'float', 'format', 'frozenset', 'get_ipython', 'getattr', 'globals', 'hasattr', 'hash', 'help', 'hex', 'id', 'input', 'int', 'isinstance', 'issubclass', 'iter', 'len', 'license', 'list', 'locals', 'map', 'max', 'memoryview', 'min', 'next', 'object', 'oct', 'open', 'ord', 'pow', 'print', 'property', 'range', 'repr', 'reversed', 'round', 'runfile', 'set', 'setattr', 'slice', 'sorted', 'staticmethod', 'str', 'sum', 'super', 'tuple', 'type', 'vars', 'zip']\n"
     ]
    }
   ],
   "source": [
    "print(dir(__builtins__))"
   ]
  },
  {
   "cell_type": "code",
   "execution_count": 44,
   "id": "e66eebd6-ba12-4952-898b-660859b2ff27",
   "metadata": {},
   "outputs": [
    {
     "name": "stdout",
     "output_type": "stream",
     "text": [
      "10\n",
      "10\n"
     ]
    }
   ],
   "source": [
    "count = 10\n",
    "def function():\n",
    "    # Объявляем локальную переменную count\n",
    "    print(count)\n",
    "# Вызываем функцию    \n",
    "function()\n",
    "# Смотрим, изменилась ли переменная count\n",
    "print(count)"
   ]
  },
  {
   "cell_type": "code",
   "execution_count": 49,
   "id": "67b458fd-f78a-450c-a475-321ee82b119e",
   "metadata": {},
   "outputs": [
    {
     "name": "stdout",
     "output_type": "stream",
     "text": [
      "199000\n"
     ]
    }
   ],
   "source": [
    "money = 200000\n",
    "def cash(less_money):\n",
    "        global money\n",
    "        money -= less_money\n",
    "        return money\n",
    "    \n",
    "print(cash(1000))"
   ]
  },
  {
   "cell_type": "code",
   "execution_count": 51,
   "id": "30007faf-fbb2-4fd2-8a8a-f3de9ba285c0",
   "metadata": {},
   "outputs": [
    {
     "name": "stdout",
     "output_type": "stream",
     "text": [
      "None\n"
     ]
    }
   ],
   "source": [
    "# Словарь с курсами валют (по отношению к рублю)\n",
    "currencies = {'USD': 74, 'EUR': 88, 'GBP': 98 , 'CHF': 82}\n",
    "# Общее количество денег на счету, которое нужно конвертировать\n",
    "money = 100000\n",
    "# Функция для конвертации валюты, аргумент - наименование валюты\n",
    "def convert(money, currency):\n",
    "    # Объявляем, что money - глобальная переменная\n",
    "    # Производим конвертацию - делим количество денег на счету на соответствующий курс\n",
    "    money = money / currencies[currency]\n",
    "\n",
    "# Вызываем функцию для конвертации валюты\n",
    "print(convert(money, 'USD'))"
   ]
  },
  {
   "cell_type": "code",
   "execution_count": 52,
   "id": "b7220e89-ec91-407d-84a2-1998c2444818",
   "metadata": {},
   "outputs": [],
   "source": [
    "# Функция для вычисления количества символов (symbol) в строке s\n",
    "def count_occurrences(s, symbol):\n",
    "    # Внутренняя функция для предобработки строки s\n",
    "    def preprocessing_s():\n",
    "        nonlocal s\n",
    "        # Удаляем пробелы из строки\n",
    "        s = s.replace(' ', '')\n",
    "        # Приводим строку к нижнему регистру\n",
    "        s = s.lower()\n",
    "    # Вызываем функцию для предобработки аргумента s\n",
    "    preprocessing_s()\n",
    "    # Считаем количество символов symbol в строке s и возвращаем результат\n",
    "    return s.count(symbol)"
   ]
  },
  {
   "cell_type": "code",
   "execution_count": 53,
   "id": "f62eebef-61ca-46db-ac7d-54eaf323c030",
   "metadata": {},
   "outputs": [
    {
     "data": {
      "text/plain": [
       "{'ютуб': 248, 'вк': 514, 'радио': 339}"
      ]
     },
     "execution_count": 53,
     "metadata": {},
     "output_type": "execute_result"
    }
   ],
   "source": [
    "advertising_campaigns = {'ютуб': [212, 248], 'вк': [514, 342], 'радио': [339, 125]}\n",
    "advertising_campaigns_max = {}  \n",
    "# Создаём цикл по ключам исходного словаря  \n",
    "for key in advertising_campaigns:  \n",
    "    # Вычисляем максимум в списке, лежащем по ключу key  \n",
    "    _max = max(advertising_campaigns[key])  \n",
    "    # Добавляем максимум в новый словарь  \n",
    "    advertising_campaigns_max[key] = _max\n",
    "    \n",
    "advertising_campaigns_max"
   ]
  },
  {
   "cell_type": "code",
   "execution_count": 7,
   "id": "59a2602c-e525-4c2c-8275-d720fe5c6227",
   "metadata": {},
   "outputs": [],
   "source": [
    "def is_leap(year):\n",
    "    if year % 400 == 0:\n",
    "        return True\n",
    "    if year % 100 == 0:\n",
    "        return False\n",
    "    if year % 4 == 0:\n",
    "        return True\n",
    "    return False"
   ]
  },
  {
   "cell_type": "code",
   "execution_count": 5,
   "id": "9c30cb2d-24a6-44cc-9bc6-f479fb874c58",
   "metadata": {},
   "outputs": [],
   "source": [
    "def check_date(day, month, year):\n",
    "    \n",
    "    def is_leap(year):\n",
    "        if year % 400 == 0:\n",
    "            return True\n",
    "        if year % 100 == 0:\n",
    "            return False\n",
    "        if year % 4 == 0:\n",
    "            return True\n",
    "        return False\n",
    "    \n",
    "    # Проверяем день, месяц и год на целочисленность\n",
    "    if (type(day) is not int) or (type(month) is not int) or (type(year) is not int):\n",
    "        return False\n",
    "    # Проверяем год на заданный диапазон\n",
    "    if (year <= 1900) or (year >= 2022):\n",
    "        return False\n",
    "    # Проверяем месяц на заданный диапазон     \n",
    "    if (month < 1) or (month > 12):\n",
    "        return False\n",
    "    # Проверяем день на заданный диапазон  \n",
    "    if (day < 1) or (day > 31): \n",
    "        return False\n",
    "    # Проверяем апрель, июнь, сентябрь и ноябрь на количество дней\n",
    "    if (month in [4,6,9,11]) and (day > 30):\n",
    "        return False\n",
    "    # Проверяем количество дней в феврале\n",
    "    if month == 2 and is_leap(year) and day > 29:\n",
    "        return False\n",
    "    if month == 2 and day > 28:\n",
    "        return False    \n",
    "    return True"
   ]
  },
  {
   "cell_type": "code",
   "execution_count": 6,
   "id": "4a3be76a-0c3f-4513-80f4-d3d10440f2c8",
   "metadata": {},
   "outputs": [
    {
     "data": {
      "text/plain": [
       "False"
      ]
     },
     "execution_count": 6,
     "metadata": {},
     "output_type": "execute_result"
    }
   ],
   "source": [
    "check_date(29, 2, 2000)"
   ]
  },
  {
   "cell_type": "code",
   "execution_count": 8,
   "id": "a9370d28-182d-4cf6-88be-c2dfc8e73d94",
   "metadata": {},
   "outputs": [
    {
     "data": {
      "text/plain": [
       "True"
      ]
     },
     "execution_count": 8,
     "metadata": {},
     "output_type": "execute_result"
    }
   ],
   "source": [
    "is_leap(2000)"
   ]
  },
  {
   "cell_type": "code",
   "execution_count": 4,
   "id": "107fcf1a-50c0-4e0b-9ff3-86f7598459b2",
   "metadata": {},
   "outputs": [],
   "source": [
    "# Функция для регистрации пользователей\n",
    "def register(surname, name, date, middle_name=None, registry=None):\n",
    "    # Вспомогательная функция для предобработки даты\n",
    "    def preprocessing_date(date):\n",
    "        # Разделяем строку по символу точки\n",
    "        day, month, year = date.split('.')\n",
    "        # Преобразуем все данные к типу данных int\n",
    "        day, month, year = int(day), int(month), int(year)\n",
    "        return day, month, year\n",
    "    \n",
    "    def check_date(day, month, year):\n",
    "    \n",
    "        def is_leap(year):\n",
    "            if year % 400 == 0:\n",
    "                return True\n",
    "            if year % 100 == 0:\n",
    "                return False\n",
    "            if year % 4 == 0:\n",
    "                return True\n",
    "            return False\n",
    "    \n",
    "        # Проверяем день, месяц и год на целочисленность\n",
    "        if (type(day) is not int) or (type(month) is not int) or (type(year) is not int):\n",
    "            return False\n",
    "        # Проверяем год на заданный диапазон\n",
    "        if (year <= 1900) or (year >= 2022):\n",
    "            return False\n",
    "        # Проверяем месяц на заданный диапазон     \n",
    "        if (month < 1) or (month > 12):\n",
    "            return False\n",
    "        # Проверяем день на заданный диапазон  \n",
    "        if (day < 1) or (day > 31): \n",
    "            return False\n",
    "        # Проверяем апрель, июнь, сентябрь и ноябрь на количество дней\n",
    "        if (month in [4,6,9,11]) and (day > 30):\n",
    "            return False\n",
    "        # Проверяем количество дней в феврале\n",
    "        if month == 2 and is_leap(year) and day > 29:\n",
    "            return False\n",
    "        if month == 2 and day > 28:\n",
    "            return False    \n",
    "        return True\n",
    "\n",
    "    # Если список не был передан — создаём пустой список\n",
    "    if registry is None:\n",
    "        registry = list()\n",
    "    # Разделяем дату на составляющие\n",
    "    day, month, year = preprocessing_date(date)\n",
    "    if check_date(day, month, year):\n",
    "        registry.append((surname, name, middle_name, day, month, year))\n",
    "    else:\n",
    "        raise ValueError(\"Invalid Date!\")\n",
    "    # Добавляем данные в список\n",
    "        \n",
    "    return registry"
   ]
  },
  {
   "cell_type": "code",
   "execution_count": 5,
   "id": "dbb6c182-c62b-4217-957f-ff0390b8a2ba",
   "metadata": {},
   "outputs": [
    {
     "data": {
      "text/plain": [
       "[('Иванов', 'Сергей', None, 12, 8, 2000)]"
      ]
     },
     "execution_count": 5,
     "metadata": {},
     "output_type": "execute_result"
    }
   ],
   "source": [
    "register(surname = 'Иванов',\n",
    "name = 'Сергей',\n",
    "date = '12.08.2000',\n",
    "middle_name = None,\n",
    "registry = None)"
   ]
  },
  {
   "cell_type": "code",
   "execution_count": 12,
   "id": "ec1a3157-8a39-450c-a084-628a4c50dfde",
   "metadata": {},
   "outputs": [],
   "source": [
    "def triangle(p1, p2, p3):\n",
    "    # Функция для вычисления сторон треугольника\n",
    "    # По умолчанию параметры функции берутся из объемлющей области видимости\n",
    "    def sides(p1, p2, p3):\n",
    "        # Распаковываем кортежи для удобства, “;” означает новую строку кода\n",
    "        x1, y1 = p1; x2, y2 = p2; x3, y3 = p3\n",
    "        # Вычисляем стороны по теореме Пифагора\n",
    "        a = ((x2 - x1) ** 2 + (y2 - y1)** 2) ** 0.5\n",
    "        b = ((x3 - x1) ** 2 + (y3 - y1)** 2) ** 0.5\n",
    "        c = ((x3 - x2) ** 2 + (y3 - y2)** 2) ** 0.5\n",
    "        return a, b, c\n",
    "\n",
    "    # Функция для вычисления периметра треугольника\n",
    "    def calculate_perimeter_triangle(a, b, c):\n",
    "        # Периметр — сумма всех сторон треугольника\n",
    "        perimeter = a + b + c\n",
    "        return perimeter\n",
    "\n",
    "    # Функция для вычисления площади треугольника\n",
    "    def calculate_area_triangle(a, b, c):\n",
    "        # Вычисляем полупериметр \n",
    "        # Значение perimeter берётся из объемлющей области видимости\n",
    "        p = perimeter / 2\n",
    "        # Вычисляем площадь по формуле Герона\n",
    "        area = (p * (p - a) * (p - b) * (p - c)) ** 0.5\n",
    "        return area\n",
    "    \n",
    "    def check_exist_triangle(a, b, c):\n",
    "        if  a + b > c and a + c > b and c + b > a:\n",
    "            return True\n",
    "        else:\n",
    "            raise ValueError(\"Треугольник не существует\")\n",
    "    \n",
    "    a, b, c = sides(p1, p2, p3)\n",
    "    check_exist_triangle(a, b, c)\n",
    "    perimeter = calculate_perimeter_triangle(a, b, c)\n",
    "    area = calculate_area_triangle(a, b, c)\n",
    "    result = {'a': a, 'b': b, 'c': c, 'perimeter': perimeter, 'area': area}\n",
    "    return result"
   ]
  },
  {
   "cell_type": "code",
   "execution_count": 13,
   "id": "246a60c9-915a-4c35-a6b4-2c331912a187",
   "metadata": {},
   "outputs": [
    {
     "ename": "ValueError",
     "evalue": "Треугольник не существует",
     "output_type": "error",
     "traceback": [
      "\u001b[0;31m---------------------------------------------------------------------------\u001b[0m",
      "\u001b[0;31mValueError\u001b[0m                                Traceback (most recent call last)",
      "Cell \u001b[0;32mIn[13], line 1\u001b[0m\n\u001b[0;32m----> 1\u001b[0m triangle((\u001b[38;5;241m-\u001b[39m\u001b[38;5;241m1\u001b[39m, \u001b[38;5;241m1\u001b[39m), (\u001b[38;5;241m0\u001b[39m, \u001b[38;5;241m0\u001b[39m),(\u001b[38;5;241m1\u001b[39m, \u001b[38;5;241m-\u001b[39m\u001b[38;5;241m1\u001b[39m))\n",
      "Cell \u001b[0;32mIn[12], line 35\u001b[0m, in \u001b[0;36mtriangle\u001b[0;34m(p1, p2, p3)\u001b[0m\n\u001b[1;32m     32\u001b[0m         \u001b[38;5;28;01mraise\u001b[39;00m \u001b[38;5;167;01mValueError\u001b[39;00m(\u001b[38;5;124m\"\u001b[39m\u001b[38;5;124mТреугольник не существует\u001b[39m\u001b[38;5;124m\"\u001b[39m)\n\u001b[1;32m     34\u001b[0m a, b, c \u001b[38;5;241m=\u001b[39m sides(p1, p2, p3)\n\u001b[0;32m---> 35\u001b[0m check_exist_triangle(a, b, c)\n\u001b[1;32m     36\u001b[0m perimeter \u001b[38;5;241m=\u001b[39m calculate_perimeter_triangle(a, b, c)\n\u001b[1;32m     37\u001b[0m area \u001b[38;5;241m=\u001b[39m calculate_area_triangle(a, b, c)\n",
      "Cell \u001b[0;32mIn[12], line 32\u001b[0m, in \u001b[0;36mtriangle.<locals>.check_exist_triangle\u001b[0;34m(a, b, c)\u001b[0m\n\u001b[1;32m     30\u001b[0m     \u001b[38;5;28;01mreturn\u001b[39;00m \u001b[38;5;28;01mTrue\u001b[39;00m\n\u001b[1;32m     31\u001b[0m \u001b[38;5;28;01melse\u001b[39;00m:\n\u001b[0;32m---> 32\u001b[0m     \u001b[38;5;28;01mraise\u001b[39;00m \u001b[38;5;167;01mValueError\u001b[39;00m(\u001b[38;5;124m\"\u001b[39m\u001b[38;5;124mТреугольник не существует\u001b[39m\u001b[38;5;124m\"\u001b[39m)\n",
      "\u001b[0;31mValueError\u001b[0m: Треугольник не существует"
     ]
    }
   ],
   "source": [
    "triangle((-1, 1), (0, 0),(1, -1))"
   ]
  },
  {
   "cell_type": "code",
   "execution_count": 10,
   "id": "d7826b9f-1c00-4208-a7ac-3b5f624ae750",
   "metadata": {},
   "outputs": [],
   "source": [
    "def check_exist_triangle(a, b, c):\n",
    "    if  a + b > c and a + c > b and c + b > a:\n",
    "        return True\n",
    "    else:\n",
    "        raise ValueError(\"Треугольник не существует\")"
   ]
  },
  {
   "cell_type": "code",
   "execution_count": 20,
   "id": "c998d4dd-bd54-49f6-a3ab-7bbaddf9d160",
   "metadata": {},
   "outputs": [],
   "source": [
    "def radius(p1, p2):\n",
    "    x1, y1 = p1\n",
    "    x2, y2 = p2\n",
    "    print((x1 - x2)**2,(y1 - y2)**2)\n",
    "    radius = ((x1 - x2)**2 + (y1 - y2)**2)**0.5\n",
    "    \n",
    "    return radius"
   ]
  },
  {
   "cell_type": "code",
   "execution_count": 21,
   "id": "a8de4a24-0c31-4027-bd2d-35b1ed0e11a3",
   "metadata": {},
   "outputs": [
    {
     "name": "stdout",
     "output_type": "stream",
     "text": [
      "1 4.0\n"
     ]
    },
    {
     "data": {
      "text/plain": [
       "2.23606797749979"
      ]
     },
     "execution_count": 21,
     "metadata": {},
     "output_type": "execute_result"
    }
   ],
   "source": [
    "radius(p1=(3, 2.5), p2=(4, 4.5))"
   ]
  },
  {
   "cell_type": "code",
   "execution_count": 29,
   "id": "442923d2-1a08-484e-b568-519c4fd977a1",
   "metadata": {},
   "outputs": [],
   "source": [
    "def sum_lst(lst):\n",
    "    if len(lst) == 0:\n",
    "        return 0\n",
    "    return lst[0] + sum_lst(lst[1:])\n",
    "    "
   ]
  },
  {
   "cell_type": "code",
   "execution_count": 30,
   "id": "9976943b-d195-4a20-9055-f5eb1db46ac0",
   "metadata": {},
   "outputs": [],
   "source": [
    "my_lst = [10, 21, 24, 12]"
   ]
  },
  {
   "cell_type": "code",
   "execution_count": 31,
   "id": "63f57fbf-3d4e-41a4-8376-14e1c7219b51",
   "metadata": {},
   "outputs": [
    {
     "data": {
      "text/plain": [
       "67"
      ]
     },
     "execution_count": 31,
     "metadata": {},
     "output_type": "execute_result"
    }
   ],
   "source": [
    "sum_lst(my_lst)"
   ]
  },
  {
   "cell_type": "code",
   "execution_count": 32,
   "id": "df134e01-0572-4b69-b883-f174e482f55e",
   "metadata": {},
   "outputs": [],
   "source": [
    "def multiply_lst(lst):\n",
    "    if len(lst) == 0:\n",
    "        return 0\n",
    "    return lst[0] * multiply_lst(lst[1:])"
   ]
  },
  {
   "cell_type": "code",
   "execution_count": 33,
   "id": "0df6a16c-6261-4f5b-95eb-ddb4b0232e11",
   "metadata": {},
   "outputs": [],
   "source": [
    "def inv_sum_lst(lst):\n",
    "    if len(lst) == 0:\n",
    "        return 0\n",
    "    return 1/lst[0] + inv_sum_lst(lst[1:])"
   ]
  },
  {
   "cell_type": "code",
   "execution_count": 43,
   "id": "7b713149-02e8-4a65-9de5-6fac68c33e4e",
   "metadata": {},
   "outputs": [],
   "source": [
    "def factorial(n):\n",
    "    if n < 0:\n",
    "        raise ValueError('Factorial of a negative number does not exist!')\n",
    "    if n == 0:\n",
    "        return 1\n",
    "    if n == 1:\n",
    "        return 1\n",
    "    return n * factorial(n-1)"
   ]
  },
  {
   "cell_type": "code",
   "execution_count": 44,
   "id": "d2a36309-4085-476d-ac9f-99d97ac23649",
   "metadata": {},
   "outputs": [
    {
     "data": {
      "text/plain": [
       "120"
      ]
     },
     "execution_count": 44,
     "metadata": {},
     "output_type": "execute_result"
    }
   ],
   "source": [
    "factorial(5)"
   ]
  },
  {
   "cell_type": "code",
   "execution_count": 45,
   "id": "ef54bd93-97bf-4830-bf3c-d0304f682e8f",
   "metadata": {},
   "outputs": [],
   "source": [
    "def combinations(n,k):\n",
    "    def factorial(n):\n",
    "        if n < 0:\n",
    "            raise ValueError('Factorial of a negative number does not exist!')\n",
    "        if n == 0:\n",
    "            return 1\n",
    "        if n == 1:\n",
    "            return 1\n",
    "        return n * factorial(n-1)\n",
    "    C = factorial(n)/(factorial(n-k)*factorial(k))\n",
    "    return C"
   ]
  },
  {
   "cell_type": "code",
   "execution_count": 55,
   "id": "722e0b63-2035-4891-bb76-e078653ab0e1",
   "metadata": {},
   "outputs": [],
   "source": [
    "def fib(n):\n",
    "    if n == 1 or n == 2:\n",
    "        return 1\n",
    "    return fib(n-1) + fib(n-2)"
   ]
  },
  {
   "cell_type": "code",
   "execution_count": 57,
   "id": "5ace8fa8-1d89-4796-aa58-f82698ced8d2",
   "metadata": {},
   "outputs": [
    {
     "data": {
      "text/plain": [
       "8"
      ]
     },
     "execution_count": 57,
     "metadata": {},
     "output_type": "execute_result"
    }
   ],
   "source": [
    "fib(6)"
   ]
  },
  {
   "cell_type": "code",
   "execution_count": 59,
   "id": "4d7de5cc-4825-4302-a02b-b57cd7c6fcd2",
   "metadata": {},
   "outputs": [],
   "source": [
    "def power(val, n):\n",
    "    if n == 0:\n",
    "        return 1\n",
    "    return val * power(val, n-1)"
   ]
  },
  {
   "cell_type": "code",
   "execution_count": 63,
   "id": "5dc888bb-f75d-49b0-98e5-e0ad99d538ff",
   "metadata": {},
   "outputs": [
    {
     "data": {
      "text/plain": [
       "194481"
      ]
     },
     "execution_count": 63,
     "metadata": {},
     "output_type": "execute_result"
    }
   ],
   "source": [
    "power(-21, 4)"
   ]
  },
  {
   "cell_type": "code",
   "execution_count": 72,
   "id": "01c9cb4a-149a-420d-9d9a-cec65df5d1ee",
   "metadata": {},
   "outputs": [],
   "source": [
    "def brackets(str):\n",
    "    if len(str) == 2 or len(str) == 1:\n",
    "        return str\n",
    "    return str[0]+'('+brackets(str[1:-1])+')'+str[-1]"
   ]
  },
  {
   "cell_type": "code",
   "execution_count": 75,
   "id": "7a69dda2-c0f0-4c1d-ae89-051b98d090e8",
   "metadata": {},
   "outputs": [
    {
     "data": {
      "text/plain": [
       "'s(a(s(f(d(g(s(d(f(g(s)d)f)g)s)d)m)g)p)l)e'"
      ]
     },
     "execution_count": 75,
     "metadata": {},
     "output_type": "execute_result"
    }
   ],
   "source": [
    "brackets('sasfdgsdfgsdfgsdmgple')"
   ]
  },
  {
   "cell_type": "code",
   "execution_count": 94,
   "id": "561d3d11-5b80-4865-9a4a-38140f44435c",
   "metadata": {},
   "outputs": [],
   "source": [
    "matrix = [\n",
    "    [1, 1, 0],\n",
    "    [4, 2, 1],\n",
    "    [0, 2, 1]\n",
    "]"
   ]
  },
  {
   "cell_type": "code",
   "execution_count": 95,
   "id": "5540e612-cc51-48db-bf03-d8f9fc494f76",
   "metadata": {},
   "outputs": [],
   "source": [
    "def flatten(lst):\n",
    "    # Создаём новый пустой список\n",
    "    result = []\n",
    "    # Создаём цикл по элементам списка\n",
    "    for elem in lst:\n",
    "        # Если элемент списка является списком,\n",
    "        if type(elem) is list:\n",
    "            # Применяем к нему функцию выпрямления и добавляем элементы к результату\n",
    "            result += flatten(elem)\n",
    "        else: # Если элемент не является списоком,\n",
    "            # Добавляем элемент в новый список\n",
    "            result.append(elem)\n",
    "    return result"
   ]
  },
  {
   "cell_type": "code",
   "execution_count": 96,
   "id": "5623b7e0-125d-49e6-8f3f-f75de8dba77a",
   "metadata": {},
   "outputs": [
    {
     "name": "stdout",
     "output_type": "stream",
     "text": [
      "[1, 1, 0, 4, 2, 1, 0, 2, 1]\n"
     ]
    }
   ],
   "source": [
    "print(flatten(matrix))"
   ]
  },
  {
   "cell_type": "code",
   "execution_count": 105,
   "id": "cedd1367-5161-41c0-ab29-e4ded9e7a328",
   "metadata": {},
   "outputs": [],
   "source": [
    "def sum_list(lst):\n",
    "    # Создаём новый пустой список\n",
    "    result = 0\n",
    "    # Создаём цикл по элементам списка\n",
    "    for elem in lst:\n",
    "        # Если элемент списка является списком,\n",
    "        if type(elem) is list:\n",
    "            # Применяем к нему функцию выпрямления и добавляем элементы к результату            \n",
    "            result += sum_list(elem)\n",
    "        else: # Если элемент не является списоком,\n",
    "            # Добавляем элемент в новый список            \n",
    "            result += elem\n",
    "    return result"
   ]
  },
  {
   "cell_type": "code",
   "execution_count": 106,
   "id": "0de7094e-4100-48a6-9477-6ee4870f2b1e",
   "metadata": {},
   "outputs": [
    {
     "name": "stdout",
     "output_type": "stream",
     "text": [
      "12\n"
     ]
    }
   ],
   "source": [
    "print(sum_list(matrix))"
   ]
  },
  {
   "cell_type": "code",
   "execution_count": 90,
   "id": "a27778b4-badd-48d6-a06e-909433d3b511",
   "metadata": {},
   "outputs": [],
   "source": [
    "matrix = [\n",
    "    [1, 1, [1, 2, 3], 0],\n",
    "    [4, 2, 1, [10, 52, 2]],\n",
    "    [0, 2, 1]\n",
    "]"
   ]
  },
  {
   "cell_type": "code",
   "execution_count": 91,
   "id": "3b67c304-2bcb-4ece-95a8-a2be2c8e4f5d",
   "metadata": {},
   "outputs": [
    {
     "name": "stdout",
     "output_type": "stream",
     "text": [
      "82\n"
     ]
    }
   ],
   "source": [
    "print(sum_list(matrix))"
   ]
  },
  {
   "cell_type": "code",
   "execution_count": 107,
   "id": "c1135f1d-3419-47a0-87d0-1a46ca96598c",
   "metadata": {},
   "outputs": [],
   "source": [
    "input_dict = {\n",
    "    'key1': {\n",
    "        'key2': ['value1', 'value2'], \n",
    "        'key3': {\n",
    "            'key4': ['value3']\n",
    "        }\n",
    "    }, \n",
    "    'key5': {\n",
    "        'key6': {\n",
    "            'key7': ['value3', 'value5', 'value6']\n",
    "        }\n",
    "    }\n",
    "}"
   ]
  },
  {
   "cell_type": "code",
   "execution_count": 114,
   "id": "2fab49dc-b8fe-41d6-9d2f-762b31ee3a45",
   "metadata": {},
   "outputs": [],
   "source": [
    "def print_dict(input_data, level=0):\n",
    "    # Если input_data — словарь \n",
    "    if type(input_data) is dict:\n",
    "        # Создаём цикл по ключам словаря\n",
    "        for key in input_data:\n",
    "            # Выводим ключ в формате \"<пробелы> <имя ключа> ->\"\n",
    "            print('  ' * level + '{} ->'.format(key))\n",
    "            # Повторяем те же операции для каждого значения словаря\n",
    "            print_dict(input_data[key], level=level+1)  \n",
    "    else: # В противном случае\n",
    "        # Выводим значения в формате \"<пробелы> <значения>\"\n",
    "        print('  ' * level + str(input_data))"
   ]
  },
  {
   "cell_type": "code",
   "execution_count": 115,
   "id": "d717b86f-bfce-46e9-9ce9-5fbc31c40535",
   "metadata": {},
   "outputs": [
    {
     "name": "stdout",
     "output_type": "stream",
     "text": [
      "key1 ->\n",
      "  key2 ->\n",
      "    ['value1', 'value2']\n",
      "    key3 ->\n",
      "      key4 ->\n",
      "        ['value3']\n",
      "  key5 ->\n",
      "    key6 ->\n",
      "      key7 ->\n",
      "        ['value3', 'value5', 'value6']\n"
     ]
    }
   ],
   "source": [
    "print_dict(input_dict)"
   ]
  },
  {
   "cell_type": "code",
   "execution_count": 25,
   "id": "7c2d8565-ddfb-4591-bf52-b0e1957b0b07",
   "metadata": {},
   "outputs": [],
   "source": [
    "forum_messages = {\n",
    "    1: {'parrent_link': None, 'child_link': [3, 4]},\n",
    "    2: {'parrent_link': None, 'child_link': [5]},\n",
    "    3: {'parrent_link': 1, 'child_link': [6]},\n",
    "    4: {'parrent_link': 1, 'child_link': []},\n",
    "    5: {'parrent_link': 2, 'child_link': []},\n",
    "    6: {'parrent_link': 3, 'child_link': []}\n",
    "}"
   ]
  },
  {
   "cell_type": "code",
   "execution_count": 23,
   "id": "0a74eca4-8b72-4939-ba4a-e85798798533",
   "metadata": {},
   "outputs": [],
   "source": [
    "# Функция для удаления сообщения на форуме и всех его потомков\n",
    "def delete_message(messages, msg_id):\n",
    "    # Удаляем из словаря сообщение с идентификатором msg_id\n",
    "    # Метод pop() возвращает значение, лежащее по удаляемому ключу\n",
    "    result = messages.pop(msg_id)\n",
    "    # Получаем идентификатор родителя\n",
    "    parrent_link = result['parrent_link']\n",
    "    # Получаем список идентификаторов потомков\n",
    "    child_link = result['child_link']\n",
    "    # Если у сообщения был родитель и он ещё не был удален\n",
    "    # Эта запись будет аналогична parrent_link is not None\n",
    "    if parrent_link and parrent_link in messages:\n",
    "        # Обращаемся к словарю messages по ключу родителя\n",
    "        # Удаляем потомка из списка потомков\n",
    "        messages[parrent_link]['child_link'].remove(msg_id)\n",
    "    # Если у сообщения были потомки\n",
    "    # Эта запись будет аналогична child_link == []\n",
    "    if child_link:\n",
    "        # В цикле проходимся по всем потомкам \n",
    "        for child_id in child_link:\n",
    "            # И повторяем те же самые действия для каждого из них\n",
    "            # (рекурсивно вызываем функцию delete_message)\n",
    "            delete_message(messages, msg_id=child_id)\n",
    "    return messages"
   ]
  },
  {
   "cell_type": "code",
   "execution_count": 26,
   "id": "752734ab-3046-4879-9503-159f8e9595ca",
   "metadata": {},
   "outputs": [
    {
     "name": "stdout",
     "output_type": "stream",
     "text": [
      "{2: {'parrent_link': None, 'child_link': [5]}, 5: {'parrent_link': 2, 'child_link': []}}\n"
     ]
    }
   ],
   "source": [
    "print(delete_message(forum_messages, msg_id=1))"
   ]
  },
  {
   "cell_type": "code",
   "execution_count": 118,
   "id": "6c7c8fd9-3b77-478a-958e-8fdd4c8dc85e",
   "metadata": {},
   "outputs": [],
   "source": [
    "words_list = [\"We're\", 'in', 'a', 'small', 'village', 'near', 'Chicago', 'My', \"cousin's\", 'getting', 'married.']"
   ]
  },
  {
   "cell_type": "code",
   "execution_count": 119,
   "id": "0cf3eae0-3ca7-40f9-94de-8b08f92ed78b",
   "metadata": {},
   "outputs": [],
   "source": [
    "map_list = map(len, words_list)"
   ]
  },
  {
   "cell_type": "code",
   "execution_count": 125,
   "id": "4ade0240-4b1a-41f5-b4f5-cb9e63fe3b25",
   "metadata": {},
   "outputs": [
    {
     "data": {
      "text/plain": [
       "[5, 2, 1, 5, 7, 4, 7, 2, 8, 7, 8]"
      ]
     },
     "execution_count": 125,
     "metadata": {},
     "output_type": "execute_result"
    }
   ],
   "source": [
    "list(map_list)"
   ]
  },
  {
   "cell_type": "code",
   "execution_count": 126,
   "id": "e3dbddb4-23b2-40be-8e5f-5d8e98195a18",
   "metadata": {},
   "outputs": [],
   "source": [
    "old_list = ['1', '2', '3', '4', '5', '6', '7']\n",
    "new_list = map(int, old_list)"
   ]
  },
  {
   "cell_type": "code",
   "execution_count": 127,
   "id": "ff9126dd-34fb-435b-9691-10785c524cb5",
   "metadata": {},
   "outputs": [],
   "source": [
    "expenses = [[2356, 4537, 8678], [7395, 1298, 6500, 4791],[6341, 3408], [1105, 8374, 5914], [1024, 7333], [3500, 2008, 9375, 6144]]\n",
    "expenses_sum = map(sum, expenses)"
   ]
  },
  {
   "cell_type": "code",
   "execution_count": 139,
   "id": "af06aac4-d4d9-4359-b2f1-48399e0f2a1f",
   "metadata": {},
   "outputs": [],
   "source": [
    "prices = {'яблоко': 99, 'апельсин': 99, 'вишня': 147, 'персик': 145, 'грейпфрут': 139}\n",
    "prices_list = list(prices.items())"
   ]
  },
  {
   "cell_type": "code",
   "execution_count": 140,
   "id": "21299c92-bb53-4daf-9dc6-cbddf7f45f7c",
   "metadata": {},
   "outputs": [],
   "source": [
    "def apply_discount (price_tuple, discount=0.05):\n",
    "    item, price = price_tuple\n",
    "    new_price = round(price*(1-discount),2)\n",
    "    return (item, new_price)"
   ]
  },
  {
   "cell_type": "code",
   "execution_count": 141,
   "id": "1f8b9ed2-40f3-4d66-90c5-f0b1707fa466",
   "metadata": {},
   "outputs": [
    {
     "data": {
      "text/plain": [
       "{'яблоко': 94.05,\n",
       " 'апельсин': 94.05,\n",
       " 'вишня': 139.65,\n",
       " 'персик': 137.75,\n",
       " 'грейпфрут': 132.05}"
      ]
     },
     "execution_count": 141,
     "metadata": {},
     "output_type": "execute_result"
    }
   ],
   "source": [
    "new_prices = dict(map(apply_discount, prices_list))\n",
    "new_prices"
   ]
  },
  {
   "cell_type": "code",
   "execution_count": 142,
   "id": "94db4de2-9a25-42fd-8f5d-ae8fc4837339",
   "metadata": {},
   "outputs": [],
   "source": [
    "docs = [  \n",
    "'//doc/5041434?query=data%20science',  \n",
    "'//doc/5041567?query=data%20science',  \n",
    "'//doc/4283670?query=data%20science',  \n",
    "'//doc/3712659?query=data%20science',  \n",
    "'//doc/4997267?query=data%20science',  \n",
    "'//doc/4372673?query=data%20science',  \n",
    "'//doc/3779060?query=data%20science',  \n",
    "'//doc/3495410?query=data%20science',  \n",
    "'//doc/4308832?query=data%20science',  \n",
    "'//doc/4079881?query=data%20science'  \n",
    "]"
   ]
  },
  {
   "cell_type": "code",
   "execution_count": 143,
   "id": "a6150ed5-a495-45f5-acac-26d7085b511e",
   "metadata": {},
   "outputs": [],
   "source": [
    "site = \"https://www.kommersant.ru\""
   ]
  },
  {
   "cell_type": "code",
   "execution_count": 144,
   "id": "691a275a-d3fb-4ea5-9751-142e7175c6d0",
   "metadata": {},
   "outputs": [
    {
     "data": {
      "text/plain": [
       "['https://www.kommersant.ru//doc/5041434?query=data%20science',\n",
       " 'https://www.kommersant.ru//doc/5041567?query=data%20science',\n",
       " 'https://www.kommersant.ru//doc/4283670?query=data%20science',\n",
       " 'https://www.kommersant.ru//doc/3712659?query=data%20science',\n",
       " 'https://www.kommersant.ru//doc/4997267?query=data%20science',\n",
       " 'https://www.kommersant.ru//doc/4372673?query=data%20science',\n",
       " 'https://www.kommersant.ru//doc/3779060?query=data%20science',\n",
       " 'https://www.kommersant.ru//doc/3495410?query=data%20science',\n",
       " 'https://www.kommersant.ru//doc/4308832?query=data%20science',\n",
       " 'https://www.kommersant.ru//doc/4079881?query=data%20science']"
      ]
     },
     "execution_count": 144,
     "metadata": {},
     "output_type": "execute_result"
    }
   ],
   "source": [
    "def get_link(doc, site):\n",
    "    return site+doc\n",
    "\n",
    "list(map(lambda doc: site+doc, docs))"
   ]
  },
  {
   "cell_type": "code",
   "execution_count": 14,
   "id": "d6e9f543-8839-4aee-b091-bdee74ac33e2",
   "metadata": {},
   "outputs": [],
   "source": [
    "data = [(0.00632, 6.575, 65.2, 296.0, 4.98),  \n",
    "(0.02731, 6.421, 78.9, 242.0, 9.14),  \n",
    "(0.02729, 7.185, 61.1, 242.0, 4.03),  \n",
    "(0.03237, 6.998, 45.8, 222.0, 2.94),  \n",
    "(0.06905, 7.147, 54.2, 222.0, 5.33),  \n",
    "(0.02985, 6.43, 58.7, 222.0, 5.21),  \n",
    "(0.08829, 6.012, 66.6, 311.0, 12.43)]"
   ]
  },
  {
   "cell_type": "code",
   "execution_count": 15,
   "id": "307a3166-cd57-4cc9-a2cd-b8b32d0f2b9f",
   "metadata": {},
   "outputs": [],
   "source": [
    "updated_data = map(lambda x: (*x, round(x[0]*x[3]*x[4], 2)), data)\n",
    "filtered_data = list(filter(lambda x: x[5] > 60, updated_data))"
   ]
  },
  {
   "cell_type": "code",
   "execution_count": 17,
   "id": "360a6428-cccd-4aa3-b4fb-098784203f3a",
   "metadata": {},
   "outputs": [
    {
     "data": {
      "text/plain": [
       "[(0.02731, 6.421, 78.9, 242.0, 9.14, 60.41),\n",
       " (0.06905, 7.147, 54.2, 222.0, 5.33, 81.7),\n",
       " (0.08829, 6.012, 66.6, 311.0, 12.43, 341.31)]"
      ]
     },
     "execution_count": 17,
     "metadata": {},
     "output_type": "execute_result"
    }
   ],
   "source": [
    "filtered_data"
   ]
  },
  {
   "cell_type": "code",
   "execution_count": 158,
   "id": "0bdc29bf-a899-4f03-b3a0-e55dfd8fbedd",
   "metadata": {},
   "outputs": [],
   "source": [
    "prices = [34562, 66572, 25683, 17683, 56389, 28973]"
   ]
  },
  {
   "cell_type": "code",
   "execution_count": 159,
   "id": "5751bcd6-55c3-413c-ae9c-c7b4f2d00f1f",
   "metadata": {},
   "outputs": [
    {
     "data": {
      "text/plain": [
       "[25683, 17683, 28973]"
      ]
     },
     "execution_count": 159,
     "metadata": {},
     "output_type": "execute_result"
    }
   ],
   "source": [
    "filter_prices = lambda x: x < 30000\n",
    "filtered_prices = list(filter(filter_prices, prices))\n",
    "filtered_prices\n",
    "                       "
   ]
  },
  {
   "cell_type": "code",
   "execution_count": 160,
   "id": "32e792b7-8712-418d-83ea-bd8e81d65482",
   "metadata": {},
   "outputs": [],
   "source": [
    "family_list = [\n",
    "    'certificate of a large family',\n",
    "    'social card',\n",
    "    'maternity capital',\n",
    "    'parking permit',\n",
    "    'tax benefit',\n",
    "    'reimbursement of expenses',\n",
    "    \"compensation for the purchase of children's goods\"\n",
    " ]"
   ]
  },
  {
   "cell_type": "code",
   "execution_count": 162,
   "id": "7d964a57-9c75-4a31-b0ab-cac440df41f7",
   "metadata": {},
   "outputs": [],
   "source": [
    "def filter_family(_list):\n",
    "    return list(filter(lambda x: x in family_list, _list))"
   ]
  },
  {
   "cell_type": "code",
   "execution_count": 163,
   "id": "2d626ee7-6bb5-4d30-88da-f47ddde40021",
   "metadata": {},
   "outputs": [
    {
     "name": "stdout",
     "output_type": "stream",
     "text": [
      "['parking permit', 'maternity capital', 'tax benefit']\n"
     ]
    }
   ],
   "source": [
    "print(filter_family(['newborn registration', 'parking permit', \n",
    "                     'maternity capital', 'tax benefit', 'medical policy']))"
   ]
  },
  {
   "cell_type": "code",
   "execution_count": 1,
   "id": "c2ed25b0-0ccb-4fa3-89c2-f9ea350d09fb",
   "metadata": {},
   "outputs": [],
   "source": [
    "reg = [('Ivanov', 'Sergej', 24, 9, 1995),\n",
    "      ('Smith', 'John', 13, 2, 2003),\n",
    "      ('Petrova', 'Maria', 13, 3, 2003)]"
   ]
  },
  {
   "cell_type": "code",
   "execution_count": 13,
   "id": "0e77e2a1-89cd-412d-b4d7-42b9565b82df",
   "metadata": {},
   "outputs": [
    {
     "name": "stdout",
     "output_type": "stream",
     "text": [
      "[('Smith J.', 13, 2, 2003), ('Petrova M.', 13, 3, 2003)]\n"
     ]
    }
   ],
   "source": [
    "filter_func = lambda x: x[4] > 2000\n",
    "filtered_reg = filter(filter_func, reg)\n",
    "\n",
    "map_func = lambda x: ((f'{x[0]} {x[1][0:1]}.'), x[2], x[3], x[4] )\n",
    "result = map(map_func, filtered_reg)\n",
    "print(list(result))"
   ]
  }
 ],
 "metadata": {
  "kernelspec": {
   "display_name": "anaconda-panel-2023.05-py310",
   "language": "python",
   "name": "conda-env-anaconda-panel-2023.05-py310-py"
  },
  "language_info": {
   "codemirror_mode": {
    "name": "ipython",
    "version": 3
   },
   "file_extension": ".py",
   "mimetype": "text/x-python",
   "name": "python",
   "nbconvert_exporter": "python",
   "pygments_lexer": "ipython3",
   "version": "3.11.4"
  }
 },
 "nbformat": 4,
 "nbformat_minor": 5
}
