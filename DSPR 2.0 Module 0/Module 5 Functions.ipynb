{
 "cells": [
  {
   "cell_type": "code",
   "execution_count": 1,
   "id": "e38fa889-fb1e-433e-978f-7cf267ef9722",
   "metadata": {},
   "outputs": [],
   "source": [
    "# Введите свое решение ниже\n",
    "def add_mark(name, mark, journal=None):\n",
    "   # Добавьте здесь проверку аргумента mark\n",
    "    if journal is None:\n",
    "        journal = {}\n",
    "    marks = (2, 3, 4, 5)\n",
    "    if mark not in marks:\n",
    "        raise ValueError(\"Invalid Mark!\")\n",
    "    journal[name] = mark\n",
    "    return journal"
   ]
  },
  {
   "cell_type": "code",
   "execution_count": 2,
   "id": "a4f6dbd4-05d7-4cc2-92a5-c6b4a715e3d1",
   "metadata": {},
   "outputs": [
    {
     "data": {
      "text/plain": [
       "{'Ivanov': 5}"
      ]
     },
     "execution_count": 2,
     "metadata": {},
     "output_type": "execute_result"
    }
   ],
   "source": [
    "add_mark(\"Ivanov\", 5)"
   ]
  },
  {
   "cell_type": "code",
   "execution_count": 3,
   "id": "9a22e686-b56a-4ebf-82fa-f85cb77c08f0",
   "metadata": {},
   "outputs": [
    {
     "name": "stdout",
     "output_type": "stream",
     "text": [
      "[(1, 2), (3, 4), (10, 10)]\n"
     ]
    }
   ],
   "source": [
    "# Введите свое решение ниже\n",
    "def sort_sides(l_in):\n",
    "    l_in.sort(key=lambda elem: (elem[0]**2 + elem[1]**2) ** (1/2))\n",
    "    return l_in\n",
    "\n",
    "l_in = [(3,4), (1,2), (10,10)]\n",
    "\n",
    "print(sort_sides(l_in))"
   ]
  },
  {
   "cell_type": "code",
   "execution_count": 23,
   "id": "270b064c-1498-4088-95e4-0261281b548a",
   "metadata": {},
   "outputs": [],
   "source": [
    "def get_less(list_in, num):\n",
    "    for elem in list_in:\n",
    "        if elem < num:\n",
    "            return elem"
   ]
  },
  {
   "cell_type": "code",
   "execution_count": 24,
   "id": "9c3b2a8f-e9b0-4eec-9242-809960a4a623",
   "metadata": {},
   "outputs": [
    {
     "name": "stdout",
     "output_type": "stream",
     "text": [
      "1\n"
     ]
    }
   ],
   "source": [
    "print(get_less([1, 2, 4, 5, 8, 10], 6))"
   ]
  },
  {
   "cell_type": "code",
   "execution_count": 25,
   "id": "b4fe30a2-a29d-4a2d-9dba-a73d359d1f81",
   "metadata": {},
   "outputs": [
    {
     "name": "stdout",
     "output_type": "stream",
     "text": [
      "None\n"
     ]
    }
   ],
   "source": [
    "print(get_less([1, 5, 8,  10], 0))"
   ]
  },
  {
   "cell_type": "code",
   "execution_count": 32,
   "id": "14fef739-3b1a-4e07-bdcc-1f4ecbbc2914",
   "metadata": {},
   "outputs": [],
   "source": [
    "def split_date(date):\n",
    "    return (int(date[:2]), int(date[2:4]), int(date[4:]))"
   ]
  },
  {
   "cell_type": "code",
   "execution_count": 33,
   "id": "0c3c31e9-e753-4c6a-b30a-21f37640e521",
   "metadata": {},
   "outputs": [
    {
     "name": "stdout",
     "output_type": "stream",
     "text": [
      "(31, 1, 2019)\n"
     ]
    }
   ],
   "source": [
    "print(split_date(\"31012019\"))"
   ]
  },
  {
   "cell_type": "code",
   "execution_count": 36,
   "id": "4d40820e-d2ad-4939-acba-e50bfc606482",
   "metadata": {},
   "outputs": [],
   "source": [
    "def is_prime(num):\n",
    "    if num == 1:\n",
    "        return False\n",
    "    for i in range(2, num):\n",
    "        if num % i == 0:\n",
    "            return False, i\n",
    "    return True"
   ]
  },
  {
   "cell_type": "code",
   "execution_count": 38,
   "id": "6bd9c96e-49dc-4322-a7c3-2a670ab3890c",
   "metadata": {},
   "outputs": [
    {
     "data": {
      "text/plain": [
       "True"
      ]
     },
     "execution_count": 38,
     "metadata": {},
     "output_type": "execute_result"
    }
   ],
   "source": [
    "is_prime(7)"
   ]
  },
  {
   "cell_type": "code",
   "execution_count": 41,
   "id": "796fd6a2-cfaa-49e8-8864-7a12b2896c14",
   "metadata": {},
   "outputs": [],
   "source": [
    "def between_min_max(*args):\n",
    "    return (max(args) + min(args))/2"
   ]
  },
  {
   "cell_type": "code",
   "execution_count": 45,
   "id": "a8e6724c-010b-4cd5-9e0b-b176cb37afca",
   "metadata": {},
   "outputs": [],
   "source": [
    "def best_student(**kwargs):\n",
    "    sort_st = sorted(kwargs, key=lambda elem: elem.value(), reverse=True)\n",
    "    return sort_st"
   ]
  },
  {
   "cell_type": "code",
   "execution_count": 46,
   "id": "c4a7b551-18f6-45b8-984c-dfa2c1fdba39",
   "metadata": {},
   "outputs": [
    {
     "ename": "AttributeError",
     "evalue": "'str' object has no attribute 'value'",
     "output_type": "error",
     "traceback": [
      "\u001b[0;31m---------------------------------------------------------------------------\u001b[0m",
      "\u001b[0;31mAttributeError\u001b[0m                            Traceback (most recent call last)",
      "Cell \u001b[0;32mIn[46], line 1\u001b[0m\n\u001b[0;32m----> 1\u001b[0m best_student(Tom\u001b[38;5;241m=\u001b[39m\u001b[38;5;241m12\u001b[39m, Jerry\u001b[38;5;241m=\u001b[39m\u001b[38;5;241m1\u001b[39m, Jane\u001b[38;5;241m=\u001b[39m\u001b[38;5;241m2\u001b[39m)\n",
      "Cell \u001b[0;32mIn[45], line 2\u001b[0m, in \u001b[0;36mbest_student\u001b[0;34m(**kwargs)\u001b[0m\n\u001b[1;32m      1\u001b[0m \u001b[38;5;28;01mdef\u001b[39;00m \u001b[38;5;21mbest_student\u001b[39m(\u001b[38;5;241m*\u001b[39m\u001b[38;5;241m*\u001b[39mkwargs):\n\u001b[0;32m----> 2\u001b[0m     sort_st \u001b[38;5;241m=\u001b[39m \u001b[38;5;28msorted\u001b[39m(kwargs, key\u001b[38;5;241m=\u001b[39m\u001b[38;5;28;01mlambda\u001b[39;00m elem: elem\u001b[38;5;241m.\u001b[39mvalue(), reverse\u001b[38;5;241m=\u001b[39m\u001b[38;5;28;01mTrue\u001b[39;00m)\n\u001b[1;32m      3\u001b[0m     \u001b[38;5;28;01mreturn\u001b[39;00m sort_st\n",
      "Cell \u001b[0;32mIn[45], line 2\u001b[0m, in \u001b[0;36mbest_student.<locals>.<lambda>\u001b[0;34m(elem)\u001b[0m\n\u001b[1;32m      1\u001b[0m \u001b[38;5;28;01mdef\u001b[39;00m \u001b[38;5;21mbest_student\u001b[39m(\u001b[38;5;241m*\u001b[39m\u001b[38;5;241m*\u001b[39mkwargs):\n\u001b[0;32m----> 2\u001b[0m     sort_st \u001b[38;5;241m=\u001b[39m \u001b[38;5;28msorted\u001b[39m(kwargs, key\u001b[38;5;241m=\u001b[39m\u001b[38;5;28;01mlambda\u001b[39;00m elem: elem\u001b[38;5;241m.\u001b[39mvalue(), reverse\u001b[38;5;241m=\u001b[39m\u001b[38;5;28;01mTrue\u001b[39;00m)\n\u001b[1;32m      3\u001b[0m     \u001b[38;5;28;01mreturn\u001b[39;00m sort_st\n",
      "\u001b[0;31mAttributeError\u001b[0m: 'str' object has no attribute 'value'"
     ]
    }
   ],
   "source": [
    "best_student(Tom=12, Jerry=1, Jane=2)"
   ]
  },
  {
   "cell_type": "code",
   "execution_count": 63,
   "id": "23b5531f-53b0-4688-bd9e-44e47676a34b",
   "metadata": {},
   "outputs": [],
   "source": [
    "def best_student(**kwargs):\n",
    "    return sorted(kwargs.items(), key=lambda x: x[1])[0][0]"
   ]
  },
  {
   "cell_type": "code",
   "execution_count": 64,
   "id": "dbfb6df1-314d-4dbb-b8e5-58f6e64fe290",
   "metadata": {},
   "outputs": [
    {
     "data": {
      "text/plain": [
       "'Jerry'"
      ]
     },
     "execution_count": 64,
     "metadata": {},
     "output_type": "execute_result"
    }
   ],
   "source": [
    "best_student(Tom=12, Jerry=1, Jane=2)"
   ]
  },
  {
   "cell_type": "code",
   "execution_count": 65,
   "id": "ac930c76-ccb6-49fb-8d7f-56d398266c98",
   "metadata": {},
   "outputs": [],
   "source": [
    "def best_student(**kwargs):\n",
    "    return sorted(kwargs.items())"
   ]
  },
  {
   "cell_type": "code",
   "execution_count": 68,
   "id": "4b03ee06-47d2-45a1-ad2b-18698c6420f7",
   "metadata": {},
   "outputs": [
    {
     "data": {
      "text/plain": [
       "[('Albert', 38), ('Jane', 2), ('Jerry', 1), ('Tom', 12)]"
      ]
     },
     "execution_count": 68,
     "metadata": {},
     "output_type": "execute_result"
    }
   ],
   "source": [
    "best_student(Tom=12, Jerry=1, Jane=2, Albert=38)"
   ]
  },
  {
   "cell_type": "code",
   "execution_count": 75,
   "id": "3edbd153-b14c-4a71-9aeb-7914e31e22b2",
   "metadata": {},
   "outputs": [],
   "source": [
    "is_palindrom = lambda _str: 'yes' if _str == _str[::-1] else 'no'"
   ]
  },
  {
   "cell_type": "code",
   "execution_count": 77,
   "id": "ab05c39c-bd93-401b-929f-7783a7f81307",
   "metadata": {},
   "outputs": [
    {
     "data": {
      "text/plain": [
       "'no'"
      ]
     },
     "execution_count": 77,
     "metadata": {},
     "output_type": "execute_result"
    }
   ],
   "source": [
    "is_palindrom('1233251')"
   ]
  },
  {
   "cell_type": "code",
   "execution_count": null,
   "id": "80b33799-726d-4d28-a9b3-d041ee61f026",
   "metadata": {},
   "outputs": [],
   "source": [
    "area = lambda a, b: a*b"
   ]
  },
  {
   "cell_type": "code",
   "execution_count": 79,
   "id": "aa3fab3c-e84f-45c0-b765-37570e5e4145",
   "metadata": {},
   "outputs": [],
   "source": [
    "def sort_ignore_case(ls):\n",
    "    return sorted(ls, key= lambda x: x.lower())"
   ]
  },
  {
   "cell_type": "code",
   "execution_count": 80,
   "id": "6a4734e7-bd3d-4c30-9444-d344d01b6ce4",
   "metadata": {},
   "outputs": [
    {
     "name": "stdout",
     "output_type": "stream",
     "text": [
      "['abc', 'Acc']\n"
     ]
    }
   ],
   "source": [
    "print(sort_ignore_case(['Acc', 'abc']))"
   ]
  },
  {
   "cell_type": "code",
   "execution_count": 100,
   "id": "486abbf3-e626-4ec1-855d-af87f45123d5",
   "metadata": {},
   "outputs": [],
   "source": [
    "def exchange(usd=None, rub=None, rate=None):\n",
    "    check = [usd, rub, rate].count(None)\n",
    "    check_lst = ['Too many arguments', None, 'Not enough arguments', 'Not enough arguments']\n",
    "    if check != 1: raise ValueError(check_lst[check])\n",
    "    \n",
    "    if usd is None:\n",
    "        usd = rub / rate\n",
    "        return usd\n",
    "    if rub is None:\n",
    "        rub = usd * rate\n",
    "        return rub\n",
    "    if rate is None:\n",
    "        rate = rub / usd\n",
    "        return rate"
   ]
  },
  {
   "cell_type": "code",
   "execution_count": 101,
   "id": "c636a7a5-dfec-430e-b622-0b9b368e0dcf",
   "metadata": {
    "tags": []
   },
   "outputs": [
    {
     "data": {
      "text/plain": [
       "10.0"
      ]
     },
     "execution_count": 101,
     "metadata": {},
     "output_type": "execute_result"
    }
   ],
   "source": [
    "exchange(rub=1000, usd=100)"
   ]
  },
  {
   "cell_type": "code",
   "execution_count": null,
   "id": "f6921618-d850-426e-bf0f-617b119e211f",
   "metadata": {},
   "outputs": [],
   "source": []
  }
 ],
 "metadata": {
  "kernelspec": {
   "display_name": "Python 3",
   "language": "python",
   "name": "python3"
  },
  "language_info": {
   "codemirror_mode": {
    "name": "ipython",
    "version": 3
   },
   "file_extension": ".py",
   "mimetype": "text/x-python",
   "name": "python",
   "nbconvert_exporter": "python",
   "pygments_lexer": "ipython3",
   "version": "3.11.4"
  }
 },
 "nbformat": 4,
 "nbformat_minor": 5
}
