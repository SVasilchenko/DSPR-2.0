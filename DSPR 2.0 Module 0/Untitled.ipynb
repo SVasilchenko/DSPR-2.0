{
 "cells": [
  {
   "cell_type": "code",
   "execution_count": 1,
   "id": "0c6e7ec5-74dc-4470-a9c9-7d4effc885be",
   "metadata": {},
   "outputs": [
    {
     "name": "stdout",
     "output_type": "stream",
     "text": [
      "hello\n"
     ]
    }
   ],
   "source": [
    "print('hello')"
   ]
  },
  {
   "cell_type": "code",
   "execution_count": 2,
   "id": "74f1552f-137a-43f3-9219-2f144bec487b",
   "metadata": {},
   "outputs": [
    {
     "name": "stdout",
     "output_type": "stream",
     "text": [
      "5\n"
     ]
    }
   ],
   "source": [
    "a = 5\n",
    "print(a)"
   ]
  },
  {
   "cell_type": "code",
   "execution_count": 3,
   "id": "aa7e63cd-d1ac-4977-8313-605096759720",
   "metadata": {},
   "outputs": [
    {
     "data": {
      "text/plain": [
       "[]"
      ]
     },
     "execution_count": 3,
     "metadata": {},
     "output_type": "execute_result"
    }
   ],
   "source": [
    "empty_list = []\n",
    "empty_list"
   ]
  },
  {
   "cell_type": "code",
   "execution_count": 7,
   "id": "9c3f14ee-fd3c-41fc-81d5-63ec152b2475",
   "metadata": {},
   "outputs": [
    {
     "name": "stdout",
     "output_type": "stream",
     "text": [
      "[50, 48, 46, 44, 42, 40, 38, 36, 34, 32, 30, 28, 26, 24, 22]\n"
     ]
    }
   ],
   "source": [
    "b = list(range(50,20,-2))\n",
    "print(b)"
   ]
  },
  {
   "cell_type": "code",
   "execution_count": 15,
   "id": "785bb1ac-7b97-43d7-aadd-ad7cb7b606a0",
   "metadata": {},
   "outputs": [
    {
     "data": {
      "text/plain": [
       "['hello', 'kitty']"
      ]
     },
     "execution_count": 15,
     "metadata": {},
     "output_type": "execute_result"
    }
   ],
   "source": [
    "a = 'hello kitty'\n",
    "a.split()[-2:]"
   ]
  },
  {
   "cell_type": "code",
   "execution_count": 18,
   "id": "0910a17b-1fc9-4ab9-a8ee-ff30bb7368de",
   "metadata": {},
   "outputs": [
    {
     "data": {
      "text/plain": [
       "[1, 2, 3]"
      ]
     },
     "execution_count": 18,
     "metadata": {},
     "output_type": "execute_result"
    }
   ],
   "source": [
    "a = [1,2,3]\n",
    "b = a.copy()\n",
    "b "
   ]
  },
  {
   "cell_type": "code",
   "execution_count": 23,
   "id": "f77b68f3-f18f-418f-b0e2-448a1b5092a6",
   "metadata": {},
   "outputs": [
    {
     "name": "stdout",
     "output_type": "stream",
     "text": [
      "None\n"
     ]
    }
   ],
   "source": [
    "print(list(range(1,11)).reverse())"
   ]
  },
  {
   "cell_type": "code",
   "execution_count": 44,
   "id": "2af125d9-2969-4b94-b870-7269d1596852",
   "metadata": {},
   "outputs": [],
   "source": [
    "c = list(range(1, 11))"
   ]
  },
  {
   "cell_type": "code",
   "execution_count": null,
   "id": "d538075f-a848-4145-b4c0-455ae834c0f8",
   "metadata": {},
   "outputs": [],
   "source": []
  },
  {
   "cell_type": "code",
   "execution_count": 45,
   "id": "e8ef7cf6-b66d-4a28-beb7-142831bc7c63",
   "metadata": {},
   "outputs": [
    {
     "name": "stdout",
     "output_type": "stream",
     "text": [
      "None\n"
     ]
    }
   ],
   "source": [
    "\n",
    "print(c.reverse())"
   ]
  },
  {
   "cell_type": "code",
   "execution_count": 33,
   "id": "23790aea-5bd0-495a-80c3-1adb1259ae06",
   "metadata": {},
   "outputs": [
    {
     "name": "stdout",
     "output_type": "stream",
     "text": [
      "[10, 9, 8, 7, 6, 5, 4, 3, 2, 1]\n"
     ]
    }
   ],
   "source": [
    "nums = list(range(1, 11))\n",
    "# OR nums = [1, 2, 3, 4, 5, 6, 7, 8, 9, 10]\n",
    "nums.reverse()\n",
    "print(nums)"
   ]
  },
  {
   "cell_type": "code",
   "execution_count": 46,
   "id": "c43f1bb9-8b79-4b65-8075-35b85a3fa661",
   "metadata": {},
   "outputs": [],
   "source": [
    "random_values = [3, 5, 0, -1, 2, 10, 15, -5]\n",
    "random_values.sort()"
   ]
  },
  {
   "cell_type": "code",
   "execution_count": 47,
   "id": "1796580e-69e8-4eb5-9819-979dc356addd",
   "metadata": {},
   "outputs": [
    {
     "data": {
      "text/plain": [
       "[-5, -1, 0, 2, 3, 5, 10, 15]"
      ]
     },
     "execution_count": 47,
     "metadata": {},
     "output_type": "execute_result"
    }
   ],
   "source": [
    "random_values"
   ]
  },
  {
   "cell_type": "code",
   "execution_count": 51,
   "id": "1c4d5acd-a4f3-41b9-b01e-79635898eccf",
   "metadata": {},
   "outputs": [
    {
     "data": {
      "text/plain": [
       "{1: 100, 2: 50, 3: 10}"
      ]
     },
     "execution_count": 51,
     "metadata": {},
     "output_type": "execute_result"
    }
   ],
   "source": [
    "place_and_money = {1: 100, 2: 50, 3: 10}\n",
    "place_and_money"
   ]
  },
  {
   "cell_type": "code",
   "execution_count": 59,
   "id": "be75abe8-67be-4105-a673-97b89a8432fb",
   "metadata": {},
   "outputs": [
    {
     "data": {
      "text/plain": [
       "dict_values([100, 50, 10])"
      ]
     },
     "execution_count": 59,
     "metadata": {},
     "output_type": "execute_result"
    }
   ],
   "source": [
    "a = place_and_money.keys()\n",
    "place_and_money.values()"
   ]
  },
  {
   "cell_type": "code",
   "execution_count": 60,
   "id": "6a47d80d-ee68-481a-8bb7-c34cac231ae5",
   "metadata": {},
   "outputs": [
    {
     "data": {
      "text/plain": [
       "dict_keys([1, 2, 3])"
      ]
     },
     "execution_count": 60,
     "metadata": {},
     "output_type": "execute_result"
    }
   ],
   "source": [
    "a"
   ]
  },
  {
   "cell_type": "code",
   "execution_count": 56,
   "id": "a708e373-d7a5-4cab-b662-f1361f2cda15",
   "metadata": {},
   "outputs": [
    {
     "data": {
      "text/plain": [
       "dict_keys(['Anne', 'Anton', 'Phillip'])"
      ]
     },
     "execution_count": 56,
     "metadata": {},
     "output_type": "execute_result"
    }
   ],
   "source": [
    "name_to_age = {'Anne': 22, 'Anton': 27, 'Phillip': 30}\n",
    "name_to_age.keys()"
   ]
  },
  {
   "cell_type": "code",
   "execution_count": 57,
   "id": "e775eacd-a3ea-4e14-a64d-d7c9f368c330",
   "metadata": {},
   "outputs": [
    {
     "data": {
      "text/plain": [
       "dict_values([22, 27, 30])"
      ]
     },
     "execution_count": 57,
     "metadata": {},
     "output_type": "execute_result"
    }
   ],
   "source": [
    "name_to_age.values()"
   ]
  },
  {
   "cell_type": "code",
   "execution_count": 61,
   "id": "55a1605a-c011-4b0a-bc73-c9a534d2edea",
   "metadata": {},
   "outputs": [
    {
     "data": {
      "text/plain": [
       "\"I don't have a friend with such a name.\""
      ]
     },
     "execution_count": 61,
     "metadata": {},
     "output_type": "execute_result"
    }
   ],
   "source": [
    "name_to_age.get(\"Matvey\", \"I don't have a friend with such a name.\") \n",
    "# \"I don't have a friend with such a name.\""
   ]
  },
  {
   "cell_type": "code",
   "execution_count": 62,
   "id": "e1d259b0-003f-493d-8b2c-dda0173995cc",
   "metadata": {},
   "outputs": [
    {
     "data": {
      "text/plain": [
       "{1: 100, 2: 50, 3: 10, 4: 5, 5: 1}"
      ]
     },
     "execution_count": 62,
     "metadata": {},
     "output_type": "execute_result"
    }
   ],
   "source": [
    "place_and_money.update({4: 5, 5: 1})\n",
    "place_and_money"
   ]
  },
  {
   "cell_type": "code",
   "execution_count": 63,
   "id": "d6188df4-45a9-43f5-a9e8-87848652a748",
   "metadata": {},
   "outputs": [
    {
     "data": {
      "text/plain": [
       "{'Anne': 23, 'Anton': 27, 'Phillip': 29}"
      ]
     },
     "execution_count": 63,
     "metadata": {},
     "output_type": "execute_result"
    }
   ],
   "source": [
    "name_to_age.update({'Anne': 23, 'Phillip': 29})\n",
    "name_to_age"
   ]
  },
  {
   "cell_type": "code",
   "execution_count": 64,
   "id": "ae12ae44-ed1c-49fd-8674-78569507553f",
   "metadata": {},
   "outputs": [
    {
     "data": {
      "text/plain": [
       "{1: 100, 2: 50, 3: 10, 10: 1}"
      ]
     },
     "execution_count": 64,
     "metadata": {},
     "output_type": "execute_result"
    }
   ],
   "source": [
    "place_and_money = {1: 100, 2: 50, 3: 10}\n",
    "place_and_money.setdefault(10, 1)\n",
    "place_and_money"
   ]
  },
  {
   "cell_type": "code",
   "execution_count": 1,
   "id": "43ad58b9-7dcb-4795-8b34-02562f1252c9",
   "metadata": {},
   "outputs": [
    {
     "data": {
      "text/plain": [
       "{'Anne': 22, 'Anton': 27, 'Phillip': 30, 'Ann': 32}"
      ]
     },
     "execution_count": 1,
     "metadata": {},
     "output_type": "execute_result"
    }
   ],
   "source": [
    "name_to_age = {'Anne': 22, 'Anton': 27, 'Phillip': 30}\n",
    "name_to_age.setdefault('Ann', 32)\n",
    "name_to_age"
   ]
  },
  {
   "cell_type": "code",
   "execution_count": 66,
   "id": "81f276db-44eb-4e08-bb49-8391ad513646",
   "metadata": {},
   "outputs": [
    {
     "name": "stdout",
     "output_type": "stream",
     "text": [
      "{5: [3, 4, 5], (3, 4, 5): 'strong man'}\n"
     ]
    }
   ],
   "source": [
    "test_dict = dict()\n",
    "test_dict[5] = [3, 4, 5]\n",
    "test_dict[(3, 4, 5)] = 'strong man'\n",
    "print(test_dict)"
   ]
  },
  {
   "cell_type": "code",
   "execution_count": 67,
   "id": "bf09a1ec-534a-47e2-9527-0976506f2f00",
   "metadata": {},
   "outputs": [
    {
     "name": "stdout",
     "output_type": "stream",
     "text": [
      "{'name': 'Sancho', 'surname': 'Panso', 'info': {'age': 35, 'country': 'Mexico'}}\n"
     ]
    }
   ],
   "source": [
    "test_dict2 = dict()\n",
    "test_dict2['name'] = 'Sancho'\n",
    "test_dict2['surname'] = 'Panso'\n",
    "test_dict2['info'] = {'age': 35, 'country': 'Mexico'}\n",
    "print(test_dict2)"
   ]
  },
  {
   "cell_type": "code",
   "execution_count": 70,
   "id": "3cf8fb54-66c5-4cfd-9dd9-49e98aa990fe",
   "metadata": {},
   "outputs": [
    {
     "data": {
      "text/plain": [
       "{2, 3, 5, 10, 11}"
      ]
     },
     "execution_count": 70,
     "metadata": {},
     "output_type": "execute_result"
    }
   ],
   "source": [
    "s2 = {5, 10, 3, 2, 11}\n",
    "s2"
   ]
  },
  {
   "cell_type": "code",
   "execution_count": 71,
   "id": "20d29a9d-a58f-41c0-bbff-7bf995faece0",
   "metadata": {},
   "outputs": [],
   "source": [
    "s3 = set('wow thats cool')"
   ]
  },
  {
   "cell_type": "code",
   "execution_count": 72,
   "id": "6a776678-5f89-4960-92d1-378899634be5",
   "metadata": {},
   "outputs": [
    {
     "data": {
      "text/plain": [
       "{' ', 'a', 'c', 'h', 'l', 'o', 's', 't', 'w'}"
      ]
     },
     "execution_count": 72,
     "metadata": {},
     "output_type": "execute_result"
    }
   ],
   "source": [
    "s3"
   ]
  },
  {
   "cell_type": "code",
   "execution_count": 79,
   "id": "727515a4-6eaf-4a4c-af54-91f6da87c250",
   "metadata": {},
   "outputs": [
    {
     "data": {
      "text/plain": [
       "{'a', 'b', 'c', 'd', 'e', 'h', 'l', 'o'}"
      ]
     },
     "execution_count": 79,
     "metadata": {},
     "output_type": "execute_result"
    }
   ],
   "source": [
    "s1 = set('abcde')\n",
    "s2 = set('hello')\n",
    "s1.update('hello')\n",
    "s1"
   ]
  },
  {
   "cell_type": "code",
   "execution_count": 80,
   "id": "04fe8ca4-c4ab-4cb1-be9c-ca37bd14d2a7",
   "metadata": {},
   "outputs": [],
   "source": [
    "s1 = set('abcde')\n",
    "s1.remove('d')"
   ]
  },
  {
   "cell_type": "code",
   "execution_count": 82,
   "id": "f1b0504e-02d3-418c-8fd6-3ece976e4c2b",
   "metadata": {},
   "outputs": [],
   "source": [
    "s1 = set('abcdef')\n",
    "s1.discard('f')"
   ]
  },
  {
   "cell_type": "code",
   "execution_count": 83,
   "id": "b2f17de8-65e2-4670-9902-92b9f026b54f",
   "metadata": {},
   "outputs": [
    {
     "data": {
      "text/plain": [
       "{'a', 'b', 'c', 'd', 'e'}"
      ]
     },
     "execution_count": 83,
     "metadata": {},
     "output_type": "execute_result"
    }
   ],
   "source": [
    "s1"
   ]
  },
  {
   "cell_type": "code",
   "execution_count": 85,
   "id": "e33fd739-a939-45c0-a6f6-89ede03f6c2a",
   "metadata": {},
   "outputs": [],
   "source": [
    "alpha_set = set('abcde')\n",
    "name = set('bad boy')\n",
    "s1 = alpha_set.union(name)"
   ]
  },
  {
   "cell_type": "code",
   "execution_count": 86,
   "id": "dd8ce0c1-bed5-4e63-8727-f6dd09d2b55f",
   "metadata": {},
   "outputs": [
    {
     "data": {
      "text/plain": [
       "{' ', 'a', 'b', 'c', 'd', 'e', 'o', 'y'}"
      ]
     },
     "execution_count": 86,
     "metadata": {},
     "output_type": "execute_result"
    }
   ],
   "source": [
    "s1"
   ]
  },
  {
   "cell_type": "code",
   "execution_count": 89,
   "id": "dca3e18b-2910-46ca-8f74-af91910d2329",
   "metadata": {},
   "outputs": [],
   "source": [
    "num_set = set(range(0,11))\n",
    "date_num = set([1,9,4,8])"
   ]
  },
  {
   "cell_type": "code",
   "execution_count": 90,
   "id": "96a75f7b-1bb4-492d-9707-529e49a78f18",
   "metadata": {},
   "outputs": [
    {
     "data": {
      "text/plain": [
       "{0, 1, 2, 3, 4, 5, 6, 7, 8, 9, 10}"
      ]
     },
     "execution_count": 90,
     "metadata": {},
     "output_type": "execute_result"
    }
   ],
   "source": [
    "num_set.union(date_num)"
   ]
  },
  {
   "cell_type": "code",
   "execution_count": 91,
   "id": "0445fb5b-c203-4aa7-81df-1f2383c03322",
   "metadata": {},
   "outputs": [
    {
     "data": {
      "text/plain": [
       "{0, 1, 2, 3, 4, 5, 6, 7, 8, 9, 10}"
      ]
     },
     "execution_count": 91,
     "metadata": {},
     "output_type": "execute_result"
    }
   ],
   "source": [
    "date_num.union(num_set)"
   ]
  },
  {
   "cell_type": "code",
   "execution_count": 92,
   "id": "f175aa08-2fa4-439c-bf24-48d139aae095",
   "metadata": {},
   "outputs": [
    {
     "data": {
      "text/plain": [
       "{1, 4, 8, 9}"
      ]
     },
     "execution_count": 92,
     "metadata": {},
     "output_type": "execute_result"
    }
   ],
   "source": [
    "num_set.intersection(date_num)"
   ]
  },
  {
   "cell_type": "code",
   "execution_count": 93,
   "id": "993c765f-7ba5-4adb-b881-ef1c84ce6472",
   "metadata": {},
   "outputs": [
    {
     "data": {
      "text/plain": [
       "{1, 4, 8, 9}"
      ]
     },
     "execution_count": 93,
     "metadata": {},
     "output_type": "execute_result"
    }
   ],
   "source": [
    "date_num.intersection(num_set)"
   ]
  },
  {
   "cell_type": "code",
   "execution_count": 94,
   "id": "70ab574c-9248-419e-a0e6-1fdfc0ec7e40",
   "metadata": {},
   "outputs": [
    {
     "data": {
      "text/plain": [
       "{'a', 'b', 'd'}"
      ]
     },
     "execution_count": 94,
     "metadata": {},
     "output_type": "execute_result"
    }
   ],
   "source": [
    "alpha_set = set('abcde')\n",
    "name = set('bad boy')\n",
    "alpha_set.intersection(name)"
   ]
  },
  {
   "cell_type": "code",
   "execution_count": 95,
   "id": "0ed2cfd6-5449-41ca-bc49-1830ee42d1a4",
   "metadata": {},
   "outputs": [
    {
     "data": {
      "text/plain": [
       "{'c', 'e'}"
      ]
     },
     "execution_count": 95,
     "metadata": {},
     "output_type": "execute_result"
    }
   ],
   "source": [
    "alpha_set = set('abcde')\n",
    "name = set('bad boy')\n",
    "alpha_set.difference(name)"
   ]
  },
  {
   "cell_type": "code",
   "execution_count": 96,
   "id": "d0a818eb-66e8-4aeb-b9aa-b3824b0fb45b",
   "metadata": {},
   "outputs": [
    {
     "data": {
      "text/plain": [
       "{' ', 'o', 'y'}"
      ]
     },
     "execution_count": 96,
     "metadata": {},
     "output_type": "execute_result"
    }
   ],
   "source": [
    "name.difference(alpha_set)"
   ]
  },
  {
   "cell_type": "code",
   "execution_count": 97,
   "id": "15f256f3-9475-4337-8c7e-063d1b8278dd",
   "metadata": {},
   "outputs": [
    {
     "data": {
      "text/plain": [
       "{0, 2, 3, 5, 6, 7, 10}"
      ]
     },
     "execution_count": 97,
     "metadata": {},
     "output_type": "execute_result"
    }
   ],
   "source": [
    "num_set.difference(date_num)"
   ]
  },
  {
   "cell_type": "code",
   "execution_count": 98,
   "id": "fba3282d-9165-4eaa-864c-de4c6a4613ba",
   "metadata": {},
   "outputs": [
    {
     "name": "stdout",
     "output_type": "stream",
     "text": [
      "6.5 6.5\n"
     ]
    }
   ],
   "source": [
    "num1 = 3\n",
    "num2 = 3.5\n",
    "sum1 = num1 + num2\n",
    "sum2 = float(num1) + num2\n",
    "print(sum1,sum2)"
   ]
  },
  {
   "cell_type": "code",
   "execution_count": 100,
   "id": "66de5a41-d6ec-4cb3-a90f-8ba95a851135",
   "metadata": {},
   "outputs": [
    {
     "name": "stdout",
     "output_type": "stream",
     "text": [
      "1\n"
     ]
    }
   ],
   "source": [
    "int_one = 1\n",
    "str_one = str(int_one)\n",
    "print(str_one)"
   ]
  },
  {
   "cell_type": "code",
   "execution_count": 101,
   "id": "cc4a7102-49ca-46c6-9386-d7d6bd99518d",
   "metadata": {},
   "outputs": [
    {
     "data": {
      "text/plain": [
       "'1'"
      ]
     },
     "execution_count": 101,
     "metadata": {},
     "output_type": "execute_result"
    }
   ],
   "source": [
    "str_one"
   ]
  },
  {
   "cell_type": "code",
   "execution_count": 102,
   "id": "1be7ecb1-d6f8-4aa7-b7fb-ce29f9bde7bf",
   "metadata": {},
   "outputs": [
    {
     "name": "stdout",
     "output_type": "stream",
     "text": [
      "my age is 18\n"
     ]
    }
   ],
   "source": [
    "str_age_begin = 'my age is '\n",
    "int_age = 18\n",
    "result_string = str_age_begin + str(int_age)\n",
    "print(result_string)"
   ]
  },
  {
   "cell_type": "code",
   "execution_count": 104,
   "id": "40cf58a7-74ab-4911-82b1-0d173fe04079",
   "metadata": {},
   "outputs": [
    {
     "data": {
      "text/plain": [
       "136.0"
      ]
     },
     "execution_count": 104,
     "metadata": {},
     "output_type": "execute_result"
    }
   ],
   "source": [
    "float('136')"
   ]
  },
  {
   "cell_type": "code",
   "execution_count": 4,
   "id": "d4c8020d-ca6b-43cf-8e97-84978d93f859",
   "metadata": {},
   "outputs": [],
   "source": [
    "tpl = ('a','b','c','d','e')"
   ]
  },
  {
   "cell_type": "code",
   "execution_count": 5,
   "id": "27be5d5b-bd38-42ac-99f8-d50ca9fb191b",
   "metadata": {},
   "outputs": [
    {
     "data": {
      "text/plain": [
       "('a', 'b', 'c', 'd', 'e')"
      ]
     },
     "execution_count": 5,
     "metadata": {},
     "output_type": "execute_result"
    }
   ],
   "source": [
    "tpl"
   ]
  },
  {
   "cell_type": "code",
   "execution_count": 6,
   "id": "c27bc649-4181-44ff-b9d6-e979b5b7db5d",
   "metadata": {},
   "outputs": [
    {
     "data": {
      "text/plain": [
       "['a', 'b', 'c', 'd', 'e']"
      ]
     },
     "execution_count": 6,
     "metadata": {},
     "output_type": "execute_result"
    }
   ],
   "source": [
    "lst = list(tpl)\n",
    "lst"
   ]
  },
  {
   "cell_type": "code",
   "execution_count": 7,
   "id": "ee95ffe5-8157-40a4-91f0-dc87174a4538",
   "metadata": {},
   "outputs": [],
   "source": [
    "x = 10\n",
    "y = 100\n",
    "z = (x % 2 == 0) and (y >= 100)\n",
    "v = (x % 2 == 0) or (y >= 100)\n",
    "w = not(x % 2 == 0) or not(y >= 100)"
   ]
  },
  {
   "cell_type": "code",
   "execution_count": 8,
   "id": "5bf32318-cda0-47e0-a0c4-2d9beaec639d",
   "metadata": {},
   "outputs": [
    {
     "name": "stdout",
     "output_type": "stream",
     "text": [
      "True True False\n"
     ]
    }
   ],
   "source": [
    "print(z, v, w)"
   ]
  },
  {
   "cell_type": "code",
   "execution_count": 10,
   "id": "219d9c3a-2a9d-43af-bbac-c799e1434325",
   "metadata": {},
   "outputs": [
    {
     "name": "stdout",
     "output_type": "stream",
     "text": [
      "True\n"
     ]
    }
   ],
   "source": [
    "N = 12043879584\n",
    "print(('3' in str(N)) and ('7' in str(N)))"
   ]
  },
  {
   "cell_type": "code",
   "execution_count": 12,
   "id": "dd195c46-c7ef-461b-bc4b-a1200cc6c2d8",
   "metadata": {},
   "outputs": [
    {
     "data": {
      "text/plain": [
       "False"
      ]
     },
     "execution_count": 12,
     "metadata": {},
     "output_type": "execute_result"
    }
   ],
   "source": [
    "X = 'ABCDEFG'\n",
    "Y = '12345678'\n",
    "x, y = 'L', 9\n",
    "(x in X) and (str(y) in Y)"
   ]
  },
  {
   "cell_type": "code",
   "execution_count": 20,
   "id": "4addaf15-bd2c-4a20-bc2b-0a60774e6cf5",
   "metadata": {},
   "outputs": [
    {
     "data": {
      "text/plain": [
       "False"
      ]
     },
     "execution_count": 20,
     "metadata": {},
     "output_type": "execute_result"
    }
   ],
   "source": [
    "m, n, k = 5, 6, 35\n",
    "result = ((k % m == 0) or (k % n == 0)) and (m*n - k >= 0)\n",
    "result"
   ]
  },
  {
   "cell_type": "code",
   "execution_count": 2,
   "id": "14c89d89-59a5-4986-9bcd-464020e650c4",
   "metadata": {},
   "outputs": [],
   "source": [
    "arrival_of_goods = {\n",
    "    '148902': {\n",
    "        'Футболка с принтом': 180,\n",
    "        'Свитшот черный': 245,\n",
    "        'Джинсы серые': 252\n",
    "    },\n",
    "    '893516': {\n",
    "        'Футболка с принтом': 43,\n",
    "        'Свитшот черный': 64,\n",
    "        'Джинсы черные': 102\n",
    "    },\n",
    "    '893481': {\n",
    "        'Кружка керамическая': 35,\n",
    "        'Свитшот черный': 10,\n",
    "        'Джинсы сервые': 14\n",
    "    }\n",
    "}\n",
    "invoice_number = '89351df6'"
   ]
  },
  {
   "cell_type": "code",
   "execution_count": 3,
   "id": "efb69e6f-3615-45b1-83f2-54c902b9fd03",
   "metadata": {},
   "outputs": [],
   "source": [
    "invoice_exists = not (arrival_of_goods.get(invoice_number) is None)\n"
   ]
  },
  {
   "cell_type": "code",
   "execution_count": 4,
   "id": "c28fed04-a66e-40d8-af3e-c2648628f7f4",
   "metadata": {},
   "outputs": [
    {
     "data": {
      "text/plain": [
       "{'148902', '893481', '893516'}"
      ]
     },
     "execution_count": 4,
     "metadata": {},
     "output_type": "execute_result"
    }
   ],
   "source": [
    "set(arrival_of_goods)"
   ]
  },
  {
   "cell_type": "code",
   "execution_count": 30,
   "id": "424871d3-7e60-4c79-ba89-ce4261c04374",
   "metadata": {},
   "outputs": [],
   "source": [
    "my_dict = {1: 10}"
   ]
  },
  {
   "cell_type": "code",
   "execution_count": 31,
   "id": "2098daad-a39f-4bdd-becf-6fa1fac57210",
   "metadata": {},
   "outputs": [
    {
     "data": {
      "text/plain": [
       "10"
      ]
     },
     "execution_count": 31,
     "metadata": {},
     "output_type": "execute_result"
    }
   ],
   "source": [
    "my_dict.get(1)"
   ]
  },
  {
   "cell_type": "code",
   "execution_count": 4,
   "id": "74e65102-9f54-4382-875c-7a06c0a447f6",
   "metadata": {},
   "outputs": [
    {
     "name": "stdout",
     "output_type": "stream",
     "text": [
      "99\n"
     ]
    }
   ],
   "source": [
    "medicines = {'Ибупрофен': 99, 'Эспумизан': 279, 'Пенталгин': 119}\n",
    "name = 'Ибупрофен'\n",
    "\n",
    "try:\n",
    "    print(medicines[name])\n",
    "    \n",
    "except KeyError:\n",
    "    print('Такого препарата нет в наличии')"
   ]
  },
  {
   "cell_type": "code",
   "execution_count": 9,
   "id": "8fe024ff-e134-4484-af95-aa3b0a25a7eb",
   "metadata": {},
   "outputs": [
    {
     "ename": "ZeroDivisionError",
     "evalue": "Вы собираетесь делить на 0",
     "output_type": "error",
     "traceback": [
      "\u001b[0;31m---------------------------------------------------------------------------\u001b[0m",
      "\u001b[0;31mZeroDivisionError\u001b[0m                         Traceback (most recent call last)",
      "Cell \u001b[0;32mIn[9], line 4\u001b[0m\n\u001b[1;32m      1\u001b[0m number \u001b[38;5;241m=\u001b[39m \u001b[38;5;241m0\u001b[39m\n\u001b[1;32m      3\u001b[0m \u001b[38;5;28;01mif\u001b[39;00m number \u001b[38;5;241m==\u001b[39m \u001b[38;5;241m0\u001b[39m:\n\u001b[0;32m----> 4\u001b[0m     \u001b[38;5;28;01mraise\u001b[39;00m \u001b[38;5;167;01mZeroDivisionError\u001b[39;00m(\u001b[38;5;124m\"\u001b[39m\u001b[38;5;124mВы собираетесь делить на 0\u001b[39m\u001b[38;5;124m\"\u001b[39m)\n\u001b[1;32m      5\u001b[0m \u001b[38;5;28;01melse\u001b[39;00m:\n\u001b[1;32m      6\u001b[0m     \u001b[38;5;28mprint\u001b[39m(\u001b[38;5;28mround\u001b[39m(\u001b[38;5;241m10\u001b[39m\u001b[38;5;241m/\u001b[39mnumber, \u001b[38;5;241m3\u001b[39m))\n",
      "\u001b[0;31mZeroDivisionError\u001b[0m: Вы собираетесь делить на 0"
     ]
    }
   ],
   "source": [
    "number = 0\n",
    "\n",
    "if number == 0:\n",
    "    raise ZeroDivisionError(\"Вы собираетесь делить на 0\")\n",
    "else:\n",
    "    print(round(10/number, 3))"
   ]
  },
  {
   "cell_type": "code",
   "execution_count": 12,
   "id": "3f669c98-1b70-4ee4-afe8-ab103f75bd36",
   "metadata": {},
   "outputs": [
    {
     "name": "stdout",
     "output_type": "stream",
     "text": [
      "1947456\n"
     ]
    }
   ],
   "source": [
    "num_list = [98, 24, 23, 12, 3]\n",
    "p = 1\n",
    "for num in num_list:\n",
    "    p *= num\n",
    "print(p)"
   ]
  },
  {
   "cell_type": "code",
   "execution_count": 17,
   "id": "d2ac0ddd-615a-4449-ba34-442944d15d14",
   "metadata": {},
   "outputs": [
    {
     "name": "stdout",
     "output_type": "stream",
     "text": [
      "{'Red Square': 'Russia', 'Swallow Nest': 'Russia', 'Niagara Falls': 'Unavailable', 'Grand Canyon': 'Unavailable', 'Louvre': 'Unavailable', 'Hermitage': 'Russia'}\n"
     ]
    }
   ],
   "source": [
    "# Список мест, которые хотим посетить.\n",
    "places = [\n",
    "    'Red Square',\n",
    "    'Swallow Nest',\n",
    "    'Niagara Falls',\n",
    "    'Grand Canyon',\n",
    "    'Louvre',\n",
    "    'Hermitage'\n",
    "]\n",
    "# Словарь соответствия мест и стран\n",
    "location = {\n",
    "    'Red Square': 'Russia',\n",
    "    'Swallow Nest': 'Russia',\n",
    "    'Niagara Falls': 'USA',\n",
    "    'Grand Canyon': 'USA',\n",
    "    'Louvre': 'France',\n",
    "    'Hermitage': 'Russia'\n",
    "}\n",
    "# Создаём цикл по списку мест, которые хотим посетить.\n",
    "# place — текущее название места\n",
    "for place in places: \n",
    "    # Получаем страну из словаря location по ключу\n",
    "    country = location[place] \n",
    "    # Сравниваем название страны\n",
    "    if country != 'Russia': \n",
    "        # Помечаем место как недоступное\n",
    "        location[place]  = 'Unavailable'\n",
    "# Выводим результирующий список\n",
    "print(location)"
   ]
  },
  {
   "cell_type": "code",
   "execution_count": 18,
   "id": "edfffeb2-0562-42e5-a4de-a699ae1a1d7e",
   "metadata": {},
   "outputs": [
    {
     "name": "stdout",
     "output_type": "stream",
     "text": [
      "10\n"
     ]
    }
   ],
   "source": [
    "text_list = [\n",
    "    'afbaad',\n",
    "    'faaf',\n",
    "    'afaga',\n",
    "    'agag'\n",
    "]\n",
    "n = 0\n",
    "for word in text_list:\n",
    "    for letter in word:\n",
    "        if letter == 'a':\n",
    "            n +=1\n",
    "print(n)"
   ]
  },
  {
   "cell_type": "code",
   "execution_count": 22,
   "id": "576ac14d-e637-4a06-9e5c-3479f9d87812",
   "metadata": {},
   "outputs": [
    {
     "name": "stdout",
     "output_type": "stream",
     "text": [
      "Churn value:  -5\n",
      "Number day:  1\n",
      "Churn value:  -7\n",
      "Number day:  6\n"
     ]
    }
   ],
   "source": [
    "user_dynamics = [-5, 2, 4, 8, 12, -7, 5]\n",
    "number_negative = None #объявляем переменную, в которой будем хранить номер последнего дня оттока, изначально она пустая (None)\n",
    "N = len(user_dynamics) #вычисляем длину списка\n",
    "for i in range(N): # i — индекс текущего элемента\n",
    "    if user_dynamics[i] < 0: #если условие истинно,\n",
    "        number_negative = i+1  #перезаписываем значение номера дня\n",
    "        print(\"Churn value: \", user_dynamics[i]) # выводим количество ушедших в этот день пользователей\n",
    "        print(\"Number day: \", number_negative) # выводим номер дня"
   ]
  },
  {
   "cell_type": "code",
   "execution_count": 23,
   "id": "a8a562a1-5f95-4795-a72e-5abe456d7240",
   "metadata": {},
   "outputs": [
    {
     "name": "stdout",
     "output_type": "stream",
     "text": [
      "Churn value:  -5\n",
      "Number day:  1\n",
      "Churn value:  -7\n",
      "Number day:  6\n"
     ]
    }
   ],
   "source": [
    "for i, dynamic in enumerate(user_dynamics):\n",
    "    if dynamic < 0:\n",
    "        print(\"Churn value: \", dynamic) # выводим количество ушедших в этот день пользователей\n",
    "        print(\"Number day: \", i+1) # выводим номер дня"
   ]
  },
  {
   "cell_type": "code",
   "execution_count": 24,
   "id": "deb76b57-2427-4237-b1ae-efd805b44dd2",
   "metadata": {},
   "outputs": [
    {
     "data": {
      "text/plain": [
       "[[0, 'Hel'],\n",
       " [1, 'my'],\n",
       " [2, 'nam'],\n",
       " [3, 'is'],\n",
       " [4, 'Eze'],\n",
       " [5, 'I'],\n",
       " [6, 'lik'],\n",
       " [7, 'kni']]"
      ]
     },
     "execution_count": 24,
     "metadata": {},
     "output_type": "execute_result"
    }
   ],
   "source": [
    "str_list = ['Hello', 'my', 'name', 'is', 'Ezeikel', 'I', 'like', 'knitting']\n",
    "\n",
    "cut_str_list = []\n",
    "for i, _str in enumerate(str_list):\n",
    "    cut_str_list.append([i, _str[:3]])\n",
    "cut_str_list"
   ]
  },
  {
   "cell_type": "code",
   "execution_count": 40,
   "id": "31626197-a4a8-4187-b82f-5ce604d269e9",
   "metadata": {},
   "outputs": [
    {
     "name": "stdout",
     "output_type": "stream",
     "text": [
      "Syracuse hypothesis holds for number 257. Number of iterations = 77\n"
     ]
    }
   ],
   "source": [
    "n = 257\n",
    "origin = n\n",
    "i = 0\n",
    "# Создаём бесконечный цикл\n",
    "while True:    \n",
    "    if n % 2 == 0:\n",
    "        n /= 2\n",
    "    else:\n",
    "        n = (n * 3 + 1) // 2\n",
    "    if n == 1:        \n",
    "        # Если условие выполняется, выводим утвердительное сообщение.\n",
    "        print(f'Syracuse hypothesis holds for number {origin}. Number of iterations = {i}')\n",
    "        break\n",
    "    i += 1\n",
    "    # Проверяем, что результат равен 1\n",
    "    "
   ]
  },
  {
   "cell_type": "code",
   "execution_count": null,
   "id": "5f3012eb-64b3-4e55-b082-6a1088010938",
   "metadata": {},
   "outputs": [],
   "source": []
  }
 ],
 "metadata": {
  "kernelspec": {
   "display_name": "anaconda-panel-2023.05-py310",
   "language": "python",
   "name": "conda-env-anaconda-panel-2023.05-py310-py"
  },
  "language_info": {
   "codemirror_mode": {
    "name": "ipython",
    "version": 3
   },
   "file_extension": ".py",
   "mimetype": "text/x-python",
   "name": "python",
   "nbconvert_exporter": "python",
   "pygments_lexer": "ipython3",
   "version": "3.11.4"
  }
 },
 "nbformat": 4,
 "nbformat_minor": 5
}
