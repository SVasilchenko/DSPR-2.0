{
 "cells": [
  {
   "cell_type": "code",
   "execution_count": 1,
   "metadata": {},
   "outputs": [],
   "source": [
    "import numpy as np"
   ]
  },
  {
   "cell_type": "code",
   "execution_count": 2,
   "metadata": {},
   "outputs": [
    {
     "data": {
      "text/plain": [
       "iinfo(min=-9223372036854775808, max=9223372036854775807, dtype=int64)"
      ]
     },
     "execution_count": 2,
     "metadata": {},
     "output_type": "execute_result"
    }
   ],
   "source": [
    "np.iinfo(np.int64)"
   ]
  },
  {
   "cell_type": "code",
   "execution_count": 3,
   "metadata": {},
   "outputs": [
    {
     "name": "stdout",
     "output_type": "stream",
     "text": [
      "56\n"
     ]
    },
    {
     "name": "stderr",
     "output_type": "stream",
     "text": [
      "C:\\Users\\SVasilchenko\\AppData\\Local\\Temp\\ipykernel_17460\\3791078734.py:2: DeprecationWarning: NumPy will stop allowing conversion of out-of-bound Python integers to integer arrays.  The conversion of -456 to uint8 will fail in the future.\n",
      "For the old behavior, usually:\n",
      "    np.array(value).astype(dtype)\n",
      "will give the desired result (the cast overflows).\n",
      "  print(np.uint8(a))\n"
     ]
    }
   ],
   "source": [
    "a = -456\n",
    "print(np.uint8(a))"
   ]
  },
  {
   "cell_type": "code",
   "execution_count": 9,
   "metadata": {},
   "outputs": [
    {
     "data": {
      "text/plain": [
       "0.45"
      ]
     },
     "execution_count": 9,
     "metadata": {},
     "output_type": "execute_result"
    }
   ],
   "source": [
    "x, step = np.linspace(-6, 21, 60, endpoint=False, retstep=True)\n",
    "step"
   ]
  },
  {
   "cell_type": "code",
   "execution_count": 15,
   "metadata": {},
   "outputs": [
    {
     "name": "stderr",
     "output_type": "stream",
     "text": [
      "C:\\Users\\SVasilchenko\\AppData\\Local\\Temp\\ipykernel_9204\\1018169628.py:1: RuntimeWarning: invalid value encountered in sqrt\n",
      "  roots = np.sqrt([4, 9 , -4 , 1])\n"
     ]
    },
    {
     "data": {
      "text/plain": [
       "array([ 2.,  3., nan,  1.])"
      ]
     },
     "execution_count": 15,
     "metadata": {},
     "output_type": "execute_result"
    }
   ],
   "source": [
    "roots = np.sqrt([4, 9 , -4 , 1])\n",
    "roots"
   ]
  },
  {
   "cell_type": "code",
   "execution_count": 16,
   "metadata": {},
   "outputs": [
    {
     "data": {
      "text/plain": [
       "array([False, False,  True, False])"
      ]
     },
     "execution_count": 16,
     "metadata": {},
     "output_type": "execute_result"
    }
   ],
   "source": [
    "np.isnan(roots)"
   ]
  },
  {
   "cell_type": "code",
   "execution_count": 17,
   "metadata": {},
   "outputs": [
    {
     "data": {
      "text/plain": [
       "array([2., 3., 0., 1.])"
      ]
     },
     "execution_count": 17,
     "metadata": {},
     "output_type": "execute_result"
    }
   ],
   "source": [
    "roots[np.isnan(roots)] = 0\n",
    "roots"
   ]
  },
  {
   "cell_type": "code",
   "execution_count": 27,
   "metadata": {},
   "outputs": [],
   "source": [
    "mystery = np.array([[-13586,  15203,  28445, -27117,  -1781, -17182, -18049],\n",
    "                   [ 25936, -30968,  -1297,  -4593,   6451,  15790,   7181],\n",
    "                   [ 13348,  28049,  28655,  -6012,  21762,  25397,   8225],\n",
    "                   [ 13240,   7994,  32592,  20149,  13754,  11795,   -564],\n",
    "                   [-21725,  -8681,  30305,  22260, -17918,  12578,  29943],\n",
    "                   [-16841, -25392, -17278,  11740,   5916,    -47, -32037]],\n",
    "                   dtype=np.int16)"
   ]
  },
  {
   "cell_type": "code",
   "execution_count": 29,
   "metadata": {},
   "outputs": [],
   "source": [
    "elem_5_3 = mystery[5, 3]\n",
    "last = mystery[-1, -1]\n",
    "line_4 = mystery[4, :]\n",
    "col_2 = mystery[:, 1]\n",
    "part = mystery[2:5, 3:6]\n",
    "rev = mystery[::-1, -1]\n",
    "trans = np.transpose(mystery)"
   ]
  },
  {
   "cell_type": "code",
   "execution_count": 45,
   "metadata": {},
   "outputs": [
    {
     "data": {
      "text/plain": [
       "array([[-18049, -17182,  -1781, -27117,  28445,  15203, -13586],\n",
       "       [  7181,  15790,   6451,  -4593,  -1297, -30968,  25936],\n",
       "       [  8225,  25397,  21762,  -6012,  28655,  28049,  13348],\n",
       "       [  -564,  11795,  13754,  20149,  32592,   7994,  13240],\n",
       "       [ 29943,  12578, -17918,  22260,  30305,  -8681, -21725],\n",
       "       [-32037,    -47,   5916,  11740, -17278, -25392, -16841]],\n",
       "      dtype=int16)"
      ]
     },
     "execution_count": 45,
     "metadata": {},
     "output_type": "execute_result"
    }
   ],
   "source": [
    "mystery[:, ::-1]"
   ]
  },
  {
   "cell_type": "code",
   "execution_count": null,
   "metadata": {},
   "outputs": [],
   "source": [
    "order='F'"
   ]
  },
  {
   "cell_type": "code",
   "execution_count": 47,
   "metadata": {},
   "outputs": [],
   "source": [
    "mystery = np.array([ 12279., -26024.,  28745.,  np.nan,  31244.,  -2365.,  -6974.,\n",
    "        -9212., np.nan, -17722.,  16132.,  25933.,  np.nan, -16431.,\n",
    "        29810.], dtype=np.float32)"
   ]
  },
  {
   "cell_type": "markdown",
   "metadata": {},
   "source": [
    "Получите булевый массив nans_index с информацией о np.nan в массиве mystery: True - значение пропущено, False - значение не пропущено\n",
    "\n",
    "В переменную n_nan сохраните число пропущенных значений\n",
    "\n",
    "Скопируйте массив mystery в массив mystery_new. Заполните пропущенные значения в массиве mystery_new нулями\n",
    "\n",
    "Поменяйте тип данных в массиве mystery на int32 и сохраните в переменную mystery_int\n",
    "\n",
    "Отсортируйте значения в массиве по возрастанию и сохраните результат в переменную array\n",
    "\n",
    "Сохраните в массив table двухмерный массив, полученный из массива array. В нём должно быть 5 строк и 3 столбца. Причём порядок заполнения должен быть по столбцам!\n",
    "\n",
    "Сохраните в переменную col средний столбец из table"
   ]
  },
  {
   "cell_type": "code",
   "execution_count": 2,
   "metadata": {},
   "outputs": [
    {
     "name": "stdout",
     "output_type": "stream",
     "text": [
      "False\n",
      "mystery =  [ 12279. -26024.  28745.     nan  31244.  -2365.  -6974.  -9212.     nan\n",
      " -17722.  16132.  25933.     nan -16431.  29810.]\n",
      "mystery =  [ 12279. -26024.  28745.     nan  31244.  -2365.  -6974.  -9212.     nan\n",
      " -17722.  16132.  25933.     nan -16431.  29810.]\n",
      "[-26024. -17722. -16431.  -9212.  -6974.  -2365.  12279.  16132.  25933.\n",
      "  28745.  29810.  31244.     nan     nan     nan]\n",
      "[[-26024.  -2365.  29810.]\n",
      " [-17722.  12279.  31244.]\n",
      " [-16431.  16132.     nan]\n",
      " [ -9212.  25933.     nan]\n",
      " [ -6974.  28745.     nan]]\n",
      "[-2365. 12279. 16132. 25933. 28745.]\n"
     ]
    },
    {
     "name": "stderr",
     "output_type": "stream",
     "text": [
      "C:\\Users\\SVasilchenko\\AppData\\Local\\Temp\\ipykernel_14000\\1324247394.py:12: RuntimeWarning: invalid value encountered in cast\n",
      "  mystery_int = np.array(mystery, dtype=np.int32)\n"
     ]
    }
   ],
   "source": [
    "import numpy as np\n",
    "mystery = np.array([ 12279., -26024.,  28745.,  np.nan,  31244.,  -2365.,  -6974.,\n",
    "        -9212., np.nan, -17722.,  16132.,  25933.,  np.nan, -16431.,\n",
    "        29810.], dtype=np.float32)\n",
    "nans_index = np.isnan(mystery)\n",
    "n_nan = mystery[np.isnan(mystery)].size\n",
    "mystery_new = np.copy(mystery)\n",
    "mystery_new[np.isnan(mystery_new)] = 0\n",
    "mystery_int = np.array(mystery, dtype=np.int32)\n",
    "array = np.sort(mystery)\n",
    "table = array.reshape((5, 3), order='F')\n",
    "col = table[:, 1]"
   ]
  },
  {
   "cell_type": "code",
   "execution_count": null,
   "metadata": {},
   "outputs": [],
   "source": [
    "import numpy as np\n",
    "\n",
    "mystery = np.array([ 12279., -26024.,  28745.,  np.nan,  31244.,  -2365.,  -6974.,\n",
    "        -9212., np.nan, -17722.,  16132.,  25933.,  np.nan, -16431.,\n",
    "        29810.], dtype=np.float32)\n",
    "\n",
    "# Получите булевый массив с информацией о np.nan в массиве mystery\n",
    "# True - значение пропущено, False - значение не пропущено\n",
    "nans_index = np.isnan(mystery)\n",
    "\n",
    "# В переменную n_nan сохраните число пропущенных значений\n",
    "n_nan = sum(nans_index)\n",
    "\n",
    "# Скопируйте массив `mystery` в массив `mystery_new`. Заполните пропущенные \n",
    "# значения в массиве `mystery_new` нулями\n",
    "mystery_new = mystery.copy()\n",
    "mystery_new[nans_index] = 0\n",
    "\n",
    "# Поменяйте тип данных в массиве mystery на int32\n",
    "mystery_int = np.int32(mystery)\n",
    "\n",
    "# Отсортируйте значения в массиве по возрастанию и сохраните\n",
    "# результат в переменную array\n",
    "array = np.sort(mystery)\n",
    "\n",
    "# Сохраните в массив table двухмерный массив, полученный из массива array\n",
    "# В нём должно быть 5 строк и 3 столбца. Причём порядок заполнения должен быть\n",
    "# по столбцам! Например, 1, 2, 3, 4 -> 1    3\n",
    "#                                      2    4\n",
    "table = array.reshape((5,3), order='F')\n",
    "\n",
    "#  Сохраните в переменную col столбец 2\n",
    "col = table[:, 1]\n"
   ]
  },
  {
   "cell_type": "code",
   "execution_count": 7,
   "metadata": {},
   "outputs": [
    {
     "name": "stdout",
     "output_type": "stream",
     "text": [
      "120.6358155772986\n"
     ]
    }
   ],
   "source": [
    "a = np.array([23, 34, 27])\n",
    "b = np.array([-54, 1, 46])\n",
    "c = np.array([46, 68, 54])\n",
    "length = np.linalg.norm(a)\n",
    "distance = np.linalg.norm(b - c)\n",
    "scalar_product = np.dot(a, b)\n",
    "print(distance)\n"
   ]
  },
  {
   "cell_type": "code",
   "execution_count": 10,
   "metadata": {},
   "outputs": [
    {
     "data": {
      "text/plain": [
       "array([[[[0.99306838, 0.046181  , 0.70341952],\n",
       "         [0.1621645 , 0.91649333, 0.4826697 ],\n",
       "         [0.79523237, 0.98613031, 0.64598824],\n",
       "         [0.24870718, 0.15060574, 0.26077689]],\n",
       "\n",
       "        [[0.19672549, 0.21399948, 0.94545195],\n",
       "         [0.495243  , 0.71802444, 0.3075183 ],\n",
       "         [0.89576566, 0.55467428, 0.5632932 ],\n",
       "         [0.41316962, 0.61428643, 0.07374647]],\n",
       "\n",
       "        [[0.11391301, 0.71171631, 0.30042295],\n",
       "         [0.11289862, 0.76699374, 0.53948259],\n",
       "         [0.77013868, 0.43904628, 0.87365316],\n",
       "         [0.06114967, 0.91851701, 0.81795607]]],\n",
       "\n",
       "\n",
       "       [[[0.60159553, 0.78639015, 0.79618837],\n",
       "         [0.57963337, 0.20235306, 0.31963842],\n",
       "         [0.1984953 , 0.59772171, 0.01783828],\n",
       "         [0.42356484, 0.60261173, 0.13922321]],\n",
       "\n",
       "        [[0.99557113, 0.58099297, 0.83850362],\n",
       "         [0.06872081, 0.02752334, 0.86850006],\n",
       "         [0.55511781, 0.05751141, 0.97227777],\n",
       "         [0.13613262, 0.06973436, 0.68656635]],\n",
       "\n",
       "        [[0.11436208, 0.35544088, 0.5124991 ],\n",
       "         [0.57575468, 0.38469038, 0.84149549],\n",
       "         [0.17828238, 0.19089419, 0.0725489 ],\n",
       "         [0.36861613, 0.49839196, 0.94161691]]]])"
      ]
     },
     "execution_count": 10,
     "metadata": {},
     "output_type": "execute_result"
    }
   ],
   "source": [
    "np.random.rand(2, 3, 4,3)"
   ]
  },
  {
   "cell_type": "code",
   "execution_count": 11,
   "metadata": {},
   "outputs": [
    {
     "data": {
      "text/plain": [
       "0.6411051311674281"
      ]
     },
     "execution_count": 11,
     "metadata": {},
     "output_type": "execute_result"
    }
   ],
   "source": [
    "import numpy as np\n",
    "np.random.rand()\n",
    "# 0.06600758835806675"
   ]
  },
  {
   "cell_type": "code",
   "execution_count": null,
   "metadata": {},
   "outputs": [],
   "source": [
    "np.random.rand(5)\n",
    "# array([0.83745099, 0.58426808, 0.89206204, 0.41149807, 0.42445145])\n",
    "np.random.rand(2, 3)\n",
    "# array([[0.94931212, 0.06680018, 0.26707599],\n",
    "#      [0.67908873, 0.18001743, 0.97732239]])"
   ]
  },
  {
   "cell_type": "code",
   "execution_count": 12,
   "metadata": {},
   "outputs": [
    {
     "ename": "TypeError",
     "evalue": "'tuple' object cannot be interpreted as an integer",
     "output_type": "error",
     "traceback": [
      "\u001b[1;31m---------------------------------------------------------------------------\u001b[0m",
      "\u001b[1;31mTypeError\u001b[0m                                 Traceback (most recent call last)",
      "Cell \u001b[1;32mIn[12], line 2\u001b[0m\n\u001b[0;32m      1\u001b[0m shape \u001b[39m=\u001b[39m (\u001b[39m3\u001b[39m, \u001b[39m4\u001b[39m)\n\u001b[1;32m----> 2\u001b[0m np\u001b[39m.\u001b[39;49mrandom\u001b[39m.\u001b[39;49mrand(shape)\n\u001b[0;32m      3\u001b[0m \u001b[39m# TypeError: 'tuple' object cannot be interpreted as an integer\u001b[39;00m\n\u001b[0;32m      4\u001b[0m \u001b[39m# Ошибка типов: кортеж не может быть интерпретирован как целое число.\u001b[39;00m\n",
      "File \u001b[1;32mmtrand.pyx:1218\u001b[0m, in \u001b[0;36mnumpy.random.mtrand.RandomState.rand\u001b[1;34m()\u001b[0m\n",
      "File \u001b[1;32mmtrand.pyx:436\u001b[0m, in \u001b[0;36mnumpy.random.mtrand.RandomState.random_sample\u001b[1;34m()\u001b[0m\n",
      "File \u001b[1;32m_common.pyx:307\u001b[0m, in \u001b[0;36mnumpy.random._common.double_fill\u001b[1;34m()\u001b[0m\n",
      "\u001b[1;31mTypeError\u001b[0m: 'tuple' object cannot be interpreted as an integer"
     ]
    }
   ],
   "source": [
    "shape = (3, 4)\n",
    "np.random.rand(shape)\n",
    "# TypeError: 'tuple' object cannot be interpreted as an integer\n",
    "# Ошибка типов: кортеж не может быть интерпретирован как целое число."
   ]
  },
  {
   "cell_type": "code",
   "execution_count": null,
   "metadata": {},
   "outputs": [],
   "source": [
    "shape = (3, 4)\n",
    "np.random.rand(*shape)\n",
    "# array([[0.66169176, 0.19455777, 0.06451088, 0.31919608],\n",
    "#        [0.73536951, 0.67104408, 0.4762727 , 0.88153576],\n",
    "#        [0.70672971, 0.96677145, 0.09273995, 0.86356465]])"
   ]
  },
  {
   "cell_type": "code",
   "execution_count": null,
   "metadata": {},
   "outputs": [],
   "source": [
    "shape = (2, 3)\n",
    "np.random.sample(shape)\n",
    "# array([[0.39756103, 0.01995168, 0.2768951 ],\n",
    "#       [0.82195372, 0.26435273, 0.00957881]])"
   ]
  },
  {
   "cell_type": "code",
   "execution_count": null,
   "metadata": {},
   "outputs": [],
   "source": [
    "'''uniform(low=0.0, high=1.0, size=None)'''\n",
    "\n",
    "np.random.uniform(-30, 50)\n",
    "# 38.47365525953661\n",
    "np.random.uniform(-1000, 500, size=(2, 3))\n",
    "# array([[ 129.22164163,   77.69090611, -132.9656972 ],\n",
    "#        [  18.65802226, -317.14793906,   85.3613547 ]])"
   ]
  },
  {
   "cell_type": "code",
   "execution_count": null,
   "metadata": {},
   "outputs": [],
   "source": [
    "'''randint(low, high=None, size=None, dtype=int)'''\n",
    "\n",
    "np.random.randint(4, size=(2,3))\n",
    "# array([[3, 0, 1],\n",
    "#       [2, 1, 3]])"
   ]
  },
  {
   "cell_type": "code",
   "execution_count": null,
   "metadata": {},
   "outputs": [],
   "source": [
    "arr = np.arange(6)\n",
    "print(arr)\n",
    "# [0 1 2 3 4 5]\n",
    "print(np.random.shuffle(arr))\n",
    "# None\n",
    "arr\n",
    "# array([0, 5, 1, 3, 2, 4])"
   ]
  },
  {
   "cell_type": "code",
   "execution_count": null,
   "metadata": {},
   "outputs": [],
   "source": [
    "playlist = [\"The Beatles\", \"Pink Floyd\", \"ACDC\", \"Deep Purple\"]\n",
    "shuffled = np.random.permutation(playlist)\n",
    "print(shuffled)\n",
    "# ['The Beatles' 'Pink Floyd' 'Deep Purple' 'ACDC']\n",
    "print(playlist)\n",
    "# ['The Beatles', 'Pink Floyd', 'ACDC', 'Deep Purple']b"
   ]
  },
  {
   "cell_type": "code",
   "execution_count": 16,
   "metadata": {},
   "outputs": [
    {
     "data": {
      "text/plain": [
       "array([[3, 6, 8, 9],\n",
       "       [6, 8, 7, 9],\n",
       "       [3, 6, 1, 2]])"
      ]
     },
     "execution_count": 16,
     "metadata": {},
     "output_type": "execute_result"
    }
   ],
   "source": [
    "np.random.seed(23)\n",
    "np.random.randint(10, size=(3,4))\n",
    "# array([[3, 6, 8, 9],\n",
    "#        [6, 8, 7, 9],\n",
    "#        [3, 6, 1, 2]])"
   ]
  },
  {
   "cell_type": "code",
   "execution_count": 18,
   "metadata": {},
   "outputs": [
    {
     "name": "stdout",
     "output_type": "stream",
     "text": [
      "[8 8 3]\n",
      "[7 7 0]\n",
      "[4 2 5]\n",
      "[2 2 2]\n"
     ]
    }
   ],
   "source": [
    "print(np.random.randint(10, size=3))\n",
    "print(np.random.randint(10, size=3))\n",
    "# [8 8 3]\n",
    "print(np.random.randint(10, size=3))\n",
    "# [7 7 0]\n",
    "print(np.random.randint(10, size=3))\n",
    "# [4 2 5]\n",
    "print(np.random.randint(10, size=3))"
   ]
  },
  {
   "cell_type": "code",
   "execution_count": null,
   "metadata": {},
   "outputs": [],
   "source": [
    "choice = np.random.choice([1,2,3,4,5,6], size=10)\n",
    "print(choice)\n",
    "# [3 5 5 6 6 4 2 2 1 3]"
   ]
  },
  {
   "cell_type": "markdown",
   "metadata": {},
   "source": [
    "В simple сохраните случайное число в диапазоне от 0 до 1\n",
    "\n",
    "Сгенерируйте 120 чисел в диапазоне от -150 до 2021, сохраните их в переменную randoms\n",
    "\n",
    "Получите массив из случайных целых чисел от 1 до 100 (включительно) из 3 строк и 2 столбцов. Сохраните результат в table\n",
    "\n",
    "В переменную even сохраните четные числа от 2 до 16 (включительно)\n",
    "\n",
    "Скопируйте even в переменную mix. Перемешайте числа в mix так, чтобы массив изменился\n",
    "\n",
    "Получите из even 3 числа без повторений. Сохраните их в переменную select\n",
    "\n",
    "Получите переменную triplet, которая должна содержать перемешанные значения из массива select (сам select измениться не должен)"
   ]
  },
  {
   "cell_type": "code",
   "execution_count": 89,
   "metadata": {},
   "outputs": [
    {
     "name": "stdout",
     "output_type": "stream",
     "text": [
      "0.6059782788074047\n",
      "[ 2  4  6  8 10 12 14 16]\n",
      "[ 6 10  2  8 14 16  4 12]\n",
      "[14  2  4]\n",
      "[ 2  4 14]\n"
     ]
    }
   ],
   "source": [
    "np.random.seed(2021)\n",
    "simple = np.random.rand()\n",
    "print(simple)\n",
    "randoms = np.random.uniform(-150, 2021, size=120)\n",
    "table = np.random.randint(1, 101, size=(3,2))\n",
    "even = np.arange(2, 17, 2)\n",
    "mix = even.copy()\n",
    "print(mix)\n",
    "np.random.shuffle(mix)\n",
    "print(mix)\n",
    "select = np.random.choice(even, 3, replace=False)\n",
    "print(select)\n",
    "triplet = np.random.permutation(select)\n",
    "print(triplet)"
   ]
  },
  {
   "cell_type": "code",
   "execution_count": 80,
   "metadata": {},
   "outputs": [],
   "source": [
    "def get_chess(a):\n",
    "    board = np.zeros((a,a))  \n",
    "    board[1::2,::2] = 1\n",
    "    board[::2,1::2] = 1\n",
    "    return board"
   ]
  },
  {
   "cell_type": "code",
   "execution_count": 81,
   "metadata": {},
   "outputs": [
    {
     "data": {
      "text/plain": [
       "array([[0.]])"
      ]
     },
     "execution_count": 81,
     "metadata": {},
     "output_type": "execute_result"
    }
   ],
   "source": [
    "get_chess(1)"
   ]
  },
  {
   "cell_type": "code",
   "execution_count": 95,
   "metadata": {},
   "outputs": [],
   "source": [
    "def shuffle_seed(arr):\n",
    "    seed = np.random.randint(0, 2**32, dtype=np.uint32)\n",
    "    np.random.seed(seed)\n",
    "    shuffled = np.random.permutation(arr)\n",
    "    return (shuffled, seed)"
   ]
  },
  {
   "cell_type": "code",
   "execution_count": 100,
   "metadata": {},
   "outputs": [
    {
     "data": {
      "text/plain": [
       "(array([6, 9, 0, 7, 9, 0, 5, 4, 3, 3]), 4012171202)"
      ]
     },
     "execution_count": 100,
     "metadata": {},
     "output_type": "execute_result"
    }
   ],
   "source": [
    "simple = np.random.randint(0, 11, 10)\n",
    "shuffle_seed(simple)"
   ]
  },
  {
   "cell_type": "code",
   "execution_count": 114,
   "metadata": {},
   "outputs": [],
   "source": [
    "from itertools import combinations\n",
    "def min_max_dist(*vectors):\n",
    "    comb = combinations(vectors, 2)\n",
    "    dist = []\n",
    "    for pair in comb:\n",
    "       print(comb)\n",
    "       vec1, vec2 = pair\n",
    "       print(vec1, vec2)\n",
    "       dist.append(np.linalg.norm(vec1 - vec2))\n",
    "    d_min = min(dist)\n",
    "    d_max = max(dist)\n",
    "    return (d_min, d_max) "
   ]
  },
  {
   "cell_type": "code",
   "execution_count": 115,
   "metadata": {},
   "outputs": [
    {
     "name": "stdout",
     "output_type": "stream",
     "text": [
      "<itertools.combinations object at 0x000001EE9D923330>\n",
      "[1 2 3] [4 5 6]\n",
      "<itertools.combinations object at 0x000001EE9D923330>\n",
      "[1 2 3] [7 8 9]\n",
      "<itertools.combinations object at 0x000001EE9D923330>\n",
      "[4 5 6] [7 8 9]\n"
     ]
    },
    {
     "data": {
      "text/plain": [
       "(5.196152422706632, 10.392304845413264)"
      ]
     },
     "execution_count": 115,
     "metadata": {},
     "output_type": "execute_result"
    }
   ],
   "source": [
    "vec1 = np.array([1,2,3])\n",
    "vec2 = np.array([4,5,6])\n",
    "vec3 = np.array([7, 8, 9])\n",
    "min_max_dist(vec1, vec2, vec3)"
   ]
  },
  {
   "cell_type": "code",
   "execution_count": null,
   "metadata": {},
   "outputs": [],
   "source": []
  }
 ],
 "metadata": {
  "kernelspec": {
   "display_name": "Python 3",
   "language": "python",
   "name": "python3"
  },
  "language_info": {
   "codemirror_mode": {
    "name": "ipython",
    "version": 3
   },
   "file_extension": ".py",
   "mimetype": "text/x-python",
   "name": "python",
   "nbconvert_exporter": "python",
   "pygments_lexer": "ipython3",
   "version": "3.11.4"
  },
  "orig_nbformat": 4
 },
 "nbformat": 4,
 "nbformat_minor": 2
}
