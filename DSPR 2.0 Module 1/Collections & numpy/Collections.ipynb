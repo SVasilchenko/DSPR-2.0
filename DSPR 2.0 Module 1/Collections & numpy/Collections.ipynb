{
 "cells": [
  {
   "cell_type": "code",
   "execution_count": 3,
   "metadata": {},
   "outputs": [],
   "source": [
    "from collections import Counter"
   ]
  },
  {
   "cell_type": "code",
   "execution_count": 2,
   "metadata": {},
   "outputs": [
    {
     "data": {
      "text/plain": [
       "91"
      ]
     },
     "execution_count": 2,
     "metadata": {},
     "output_type": "execute_result"
    }
   ],
   "source": [
    "clients = [953421196, 953421161, 953421142, 953421186,\n",
    "           953421181, 953421144, 953421190, 953421184,\n",
    "           953421141, 953421193, 953421129, 953421158,\n",
    "           953421130, 953421177, 953421181, 953421136,\n",
    "           953421160, 953421184, 953421146, 953421175,\n",
    "           953421110, 953421139, 953421100, 953421116,\n",
    "           953421130, 953421179, 953421181, 953421136,\n",
    "           953421174, 953421167, 953421132, 953421195,\n",
    "           953421145, 953421108, 953421143, 953421133,\n",
    "           953421180, 953421149, 953421135, 953421195,\n",
    "           953421143, 953421131, 953421157, 953421189, 953421128, 953421132, 953421127, 953421151, 953421197, 953421160, 953421112, 953421155, 953421182, 953421168, 953421131, 953421156, 953421113, 953421102, 953421113, 953421192, 953421142, 953421105, 953421165, 953421175, 953421102, 953421195, 953421154, 953421165, 953421141, 953421166, 953421126, 953421143, 953421165, 953421150, 953421187, 953421129, 953421176, 953421169, 953421109, 953421177, 953421109, 953421150, 953421136, 953421140, 953421189, 953421198, 953421186, 953421159, 953421184, 953421182, 953421133]\n",
    "len(clients)"
   ]
  },
  {
   "cell_type": "code",
   "execution_count": 8,
   "metadata": {},
   "outputs": [
    {
     "data": {
      "text/plain": [
       "[(953421181, 3),\n",
       " (953421184, 3),\n",
       " (953421136, 3),\n",
       " (953421195, 3),\n",
       " (953421143, 3)]"
      ]
     },
     "execution_count": 8,
     "metadata": {},
     "output_type": "execute_result"
    }
   ],
   "source": [
    "c = Counter(clients)\n",
    "c.most_common(5)"
   ]
  },
  {
   "cell_type": "code",
   "execution_count": 12,
   "metadata": {},
   "outputs": [],
   "source": [
    "from collections import OrderedDict\n",
    "temps = [('2000', -4.4), ('2001', -2.5), ('2002', -4.4), ('2003', -9.5)]"
   ]
  },
  {
   "cell_type": "code",
   "execution_count": 15,
   "metadata": {},
   "outputs": [],
   "source": [
    "temps_ordered = OrderedDict(sorted(temps, key=lambda x: x[1]))"
   ]
  },
  {
   "cell_type": "code",
   "execution_count": 16,
   "metadata": {},
   "outputs": [
    {
     "data": {
      "text/plain": [
       "OrderedDict([('2003', -9.5), ('2000', -4.4), ('2002', -4.4), ('2001', -2.5)])"
      ]
     },
     "execution_count": 16,
     "metadata": {},
     "output_type": "execute_result"
    }
   ],
   "source": [
    "temps_ordered"
   ]
  },
  {
   "cell_type": "code",
   "execution_count": 1,
   "metadata": {},
   "outputs": [
    {
     "data": {
      "text/plain": [
       "6"
      ]
     },
     "execution_count": 1,
     "metadata": {},
     "output_type": "execute_result"
    }
   ],
   "source": [
    "from collections import deque\n",
    "users = [6, 18, 4, 7, 8, 8, 5, 18, 12, 17, 13, 15, 6, 7, 9, 17, 18, 8, 4, 11, 10, 8, 2, 10, 6, 10, 10, 9]\n",
    "\n",
    "dq = deque(users)\n",
    "dq.popleft()"
   ]
  },
  {
   "cell_type": "code",
   "execution_count": 2,
   "metadata": {},
   "outputs": [
    {
     "data": {
      "text/plain": [
       "8"
      ]
     },
     "execution_count": 2,
     "metadata": {},
     "output_type": "execute_result"
    }
   ],
   "source": [
    "dq.rotate(-5)\n",
    "dq.pop()"
   ]
  },
  {
   "cell_type": "code",
   "execution_count": 3,
   "metadata": {},
   "outputs": [
    {
     "data": {
      "text/plain": [
       "3"
      ]
     },
     "execution_count": 3,
     "metadata": {},
     "output_type": "execute_result"
    }
   ],
   "source": [
    "dq.count(8)"
   ]
  },
  {
   "cell_type": "code",
   "execution_count": 19,
   "metadata": {},
   "outputs": [],
   "source": [
    "def brackets(line):\n",
    "    dq = deque()\n",
    "    for bracket in line:\n",
    "        if bracket == '(':\n",
    "            dq.append(bracket)\n",
    "        if bracket == ')':\n",
    "            try:\n",
    "                dq.pop()\n",
    "            except IndexError:\n",
    "                return False\n",
    "                \n",
    "    return bool( not len(dq))"
   ]
  },
  {
   "cell_type": "code",
   "execution_count": 20,
   "metadata": {},
   "outputs": [
    {
     "data": {
      "text/plain": [
       "False"
      ]
     },
     "execution_count": 20,
     "metadata": {},
     "output_type": "execute_result"
    }
   ],
   "source": [
    "s = '(((()())())'\n",
    "brackets(s)"
   ]
  },
  {
   "cell_type": "code",
   "execution_count": 35,
   "metadata": {},
   "outputs": [
    {
     "data": {
      "text/plain": [
       "Counter({'Beer': 24,\n",
       "         'Bread': 15,\n",
       "         'Cola': 13,\n",
       "         'Milk': 12,\n",
       "         'Soap': 9,\n",
       "         'Chips': 8,\n",
       "         'Cheese': 7,\n",
       "         'Meat': 6,\n",
       "         'Ketchup': 5,\n",
       "         'Chocolate': 4,\n",
       "         'Yoghurt': 4})"
      ]
     },
     "execution_count": 35,
     "metadata": {},
     "output_type": "execute_result"
    }
   ],
   "source": [
    "from collections import Counter\n",
    "\n",
    "center = [['Meat', 'Beer', 'Soap', 'Beer', 'Cheese', 'Cola', 'Milk', 'Soap', 'Cola', 'Meat', 'Bread', 'Chocolate', 'Chips'],\n",
    "          ['Soap', 'Beer', 'Chips', 'Bread', 'Beer', 'Beer', 'Beer', 'Cheese', 'Cheese', 'Beer', 'Chips', 'Chocolate', 'Chips', 'Cheese', 'Bread', 'Cola', 'Cola', 'Beer'],\n",
    "          ['Cola', 'Soap', 'Bread', 'Milk', 'Beer', 'Meat', 'Bread', 'Bread'],\n",
    "          ['Ketchup', 'Beer', 'Ketchup', 'Chocolate', 'Milk', 'Milk', 'Bread', 'Beer'],\n",
    "          ['Beer', 'Beer', 'Meat', 'Ketchup', 'Soap', 'Bread', 'Cola', 'Beer'],\n",
    "          ['Meat', 'Bread', 'Milk', 'Cheese', 'Soap', 'Beer', 'Milk', 'Cheese',\n",
    "           'Cola', 'Beer', 'Chips', 'Bread', 'Ketchup', 'Chocolate', 'Bread', 'Milk'],\n",
    "          ['Yoghurt'], ['Beer', 'Milk', 'Chips', 'Soap', 'Chips', 'Milk', 'Beer', 'Chips','Bread', 'Meat', 'Milk'],\n",
    "          ['Yoghurt', 'Beer', 'Cola', 'Cola', 'Beer', 'Soap', 'Cheese', 'Soap', 'Bread', 'Cola', 'Yoghurt', 'Ketchup', 'Beer', 'Milk'],\n",
    "          ['Milk', 'Cola', 'Bread', 'Cola', 'Bread', 'Beer', 'Beer', 'Beer'],\n",
    "          ['Yoghurt', 'Cola']]\n",
    "\n",
    "\n",
    "def flatten(shop):\n",
    "    flatten = []\n",
    "    for bill in shop:\n",
    "        for item in bill:\n",
    "            flatten.append(item)\n",
    "    return flatten\n",
    "    \n",
    "flat = flatten(center)\n",
    "c = Counter(flat)\n",
    "c"
   ]
  },
  {
   "cell_type": "code",
   "execution_count": 38,
   "metadata": {},
   "outputs": [
    {
     "data": {
      "text/plain": [
       "['Bread',\n",
       " 'Soap',\n",
       " 'Cola',\n",
       " 'Yoghurt',\n",
       " 'Milk',\n",
       " 'Cheese',\n",
       " 'Chocolate',\n",
       " 'Chips',\n",
       " 'Meat',\n",
       " 'Beer',\n",
       " 'Ketchup']"
      ]
     },
     "execution_count": 38,
     "metadata": {},
     "output_type": "execute_result"
    }
   ],
   "source": [
    "c = sorted(c, key=lambda x: x[1], reverse=True)\n",
    "c"
   ]
  },
  {
   "cell_type": "code",
   "execution_count": null,
   "metadata": {},
   "outputs": [],
   "source": [
    "from collections import Counter\n",
    "from hidden import center\n",
    "from hidden import south\n",
    "from hidden import north\n",
    "\n",
    "def flatten(shop):\n",
    "    flat = []\n",
    "    for bill in shop:\n",
    "        for item in bill:\n",
    "            flat.append(item)\n",
    "    return flat\n",
    "\n",
    "flat_center = flatten(center)\n",
    "flat_south = flatten(south)\n",
    "flat_north = flatten(north)\n",
    "\n",
    "center_c = Counter(flat_center)\n",
    "south_c = Counter(flat_south)\n",
    "north_c = Counter(flat_north)\n",
    "center_c.subtract(north_c)\n",
    "print(center_c)"
   ]
  },
  {
   "cell_type": "code",
   "execution_count": 2,
   "metadata": {},
   "outputs": [
    {
     "data": {
      "text/plain": [
       "[('Old York', 3.3),\n",
       " ('Old Gold', 3.3),\n",
       " ('Old Wine Cellar', 3.3),\n",
       " ('Nice Cakes', 3.9),\n",
       " ('CakeTime', 4.1),\n",
       " ('CakeAndCoffee', 4.2),\n",
       " ('CakeOClock', 4.2),\n",
       " ('Belissimo', 4.5),\n",
       " ('New Age', 4.6),\n",
       " ('General Foods', 4.8),\n",
       " ('WokToWork', 4.9),\n",
       " ('WokAndRice', 4.9)]"
      ]
     },
     "execution_count": 2,
     "metadata": {},
     "output_type": "execute_result"
    }
   ],
   "source": [
    "ratings = [('Old York', 3.3), ('New Age', 4.6), ('Old Gold', 3.3), ('General Foods', 4.8),\n",
    "           ('Belissimo', 4.5), ('CakeAndCoffee', 4.2), ('CakeOClock', 4.2), ('CakeTime', 4.1),\n",
    "           ('WokToWork', 4.9), ('WokAndRice', 4.9), ('Old Wine Cellar', 3.3), ('Nice Cakes', 3.9)]\n",
    "\n",
    "def best_resto(ratings):\n",
    "    return sorted(ratings, key=lambda x: x[1])\n",
    "\n",
    "best_resto(ratings)"
   ]
  },
  {
   "cell_type": "code",
   "execution_count": 15,
   "metadata": {},
   "outputs": [
    {
     "data": {
      "text/plain": [
       "[('Belissimo', 4.5),\n",
       " ('CakeAndCoffee', 4.2),\n",
       " ('CakeOClock', 4.2),\n",
       " ('CakeTime', 4.1),\n",
       " ('General Foods', 4.8),\n",
       " ('New Age', 4.6),\n",
       " ('Nice Cakes', 3.9),\n",
       " ('Old Gold', 3.3),\n",
       " ('Old Wine Cellar', 3.3),\n",
       " ('Old York', 3.3),\n",
       " ('WokAndRice', 4.9),\n",
       " ('WokToWork', 4.9)]"
      ]
     },
     "execution_count": 15,
     "metadata": {},
     "output_type": "execute_result"
    }
   ],
   "source": [
    "from collections import OrderedDict\n",
    "\n",
    "od = OrderedDict(ratings)\n",
    "cafes = sorted(od.items(), key=lambda x: (-x[1], x[0]))\n",
    "cafes"
   ]
  },
  {
   "cell_type": "code",
   "execution_count": 9,
   "metadata": {},
   "outputs": [],
   "source": [
    "ratings = [('Old York', 3.3), ('New Age', 4.6), ('Old Gold', 3.3), ('General Foods', 4.8),\n",
    "           ('Belissimo', 4.5), ('CakeAndCoffee', 4.2), ('CakeOClock', 4.2), ('CakeTime', 4.1),\n",
    "           ('WokToWork', 4.9), ('WokAndRice', 4.9), ('Old Wine Cellar', 3.3), ('Nice Cakes', 3.9)]\n",
    "\n",
    "# Отсортируйте список ratings по убыванию рейтинга. Для кафе с одинаковым рейтингом отсортируйте \n",
    "# кортежи по названию.\n",
    "\n",
    "ratings.sort(key=lambda x: (-x[1], x[0]))\n",
    "\n",
    "# Сохраните данные с рейтингом в словарь cafes, где ключами являются\n",
    "# названия кафе, а значениями - их рейтинг.\n",
    "from collections import OrderedDict\n",
    "cafes = OrderedDict(ratings)\n"
   ]
  },
  {
   "cell_type": "code",
   "execution_count": 10,
   "metadata": {},
   "outputs": [
    {
     "data": {
      "text/plain": [
       "OrderedDict([('WokAndRice', 4.9),\n",
       "             ('WokToWork', 4.9),\n",
       "             ('General Foods', 4.8),\n",
       "             ('New Age', 4.6),\n",
       "             ('Belissimo', 4.5),\n",
       "             ('CakeAndCoffee', 4.2),\n",
       "             ('CakeOClock', 4.2),\n",
       "             ('CakeTime', 4.1),\n",
       "             ('Nice Cakes', 3.9),\n",
       "             ('Old Gold', 3.3),\n",
       "             ('Old Wine Cellar', 3.3),\n",
       "             ('Old York', 3.3)])"
      ]
     },
     "execution_count": 10,
     "metadata": {},
     "output_type": "execute_result"
    }
   ],
   "source": [
    "cafes"
   ]
  },
  {
   "cell_type": "code",
   "execution_count": 29,
   "metadata": {},
   "outputs": [],
   "source": [
    "from collections import deque\n",
    "from collections import OrderedDict\n",
    "tasks = [(36871, 'office', False),\n",
    "(40690, 'office', False),\n",
    "(35364, 'voltage', False),\n",
    "(41667, 'voltage', True),\n",
    "(33850, 'office', False)]\n",
    "\n",
    "def order_tasks(tasks):\n",
    "    od = OrderedDict()\n",
    "    for task in tasks:\n",
    "        if task[1] not in od.keys():       \n",
    "            od[task[1]] = deque()\n",
    "        od[task[1]].appendleft(task[0]) if task[2]  else od[task[1]].append(task[0])\n",
    "    return od    "
   ]
  },
  {
   "cell_type": "code",
   "execution_count": 30,
   "metadata": {},
   "outputs": [
    {
     "data": {
      "text/plain": [
       "OrderedDict([('office', deque([36871, 40690, 33850])),\n",
       "             ('voltage', deque([41667, 35364]))])"
      ]
     },
     "execution_count": 30,
     "metadata": {},
     "output_type": "execute_result"
    }
   ],
   "source": [
    "order_tasks(tasks)"
   ]
  },
  {
   "cell_type": "code",
   "execution_count": 28,
   "metadata": {},
   "outputs": [
    {
     "data": {
      "text/plain": [
       "defaultdict(collections.deque,\n",
       "            {'office': deque([36871, 40690, 33850]),\n",
       "             'voltage': deque([41667, 35364])})"
      ]
     },
     "execution_count": 28,
     "metadata": {},
     "output_type": "execute_result"
    }
   ],
   "source": [
    "from collections import deque\n",
    "from collections import defaultdict\n",
    "tasks = [(36871, 'office', False),\n",
    "(40690, 'office', False),\n",
    "(35364, 'voltage', False),\n",
    "(41667, 'voltage', True),\n",
    "(33850, 'office', False)]\n",
    "\n",
    "def task_manager(tasks):\n",
    "    od = defaultdict(deque)\n",
    "    for task in tasks:\n",
    "        od[task[1]].appendleft(task[0]) if task[2]  else od[task[1]].append(task[0])\n",
    "    return od\n",
    "\n",
    "task_manager(tasks)    "
   ]
  },
  {
   "cell_type": "code",
   "execution_count": null,
   "metadata": {},
   "outputs": [],
   "source": []
  }
 ],
 "metadata": {
  "kernelspec": {
   "display_name": "Python 3",
   "language": "python",
   "name": "python3"
  },
  "language_info": {
   "codemirror_mode": {
    "name": "ipython",
    "version": 3
   },
   "file_extension": ".py",
   "mimetype": "text/x-python",
   "name": "python",
   "nbconvert_exporter": "python",
   "pygments_lexer": "ipython3",
   "version": "3.11.4"
  },
  "orig_nbformat": 4
 },
 "nbformat": 4,
 "nbformat_minor": 2
}
